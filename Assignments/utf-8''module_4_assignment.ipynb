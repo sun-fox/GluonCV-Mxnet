{
 "cells": [
  {
   "cell_type": "markdown",
   "metadata": {
    "deletable": false,
    "editable": false,
    "nbgrader": {
     "cell_type": "markdown",
     "checksum": "5074b9d54a7c4c8dae2324b8cb78e503",
     "grade": false,
     "grade_id": "cell-fc0b22c123cbdd06",
     "locked": true,
     "schema_version": 3,
     "solution": false,
     "task": false
    }
   },
   "source": [
    "# Module 4 Assignment\n",
    "\n",
    "In this assignment, you'll use some of the key concepts from the module to create a neural network for image classification of items of clothing. Step one will be to normalize the input images, and you'll use NDArray operations to calculate the channel mean. You'll create a function to evaluate the performance of networks on the data, and construct a couple of different neural networks for image classification."
   ]
  },
  {
   "cell_type": "markdown",
   "metadata": {
    "deletable": false,
    "editable": false,
    "nbgrader": {
     "cell_type": "markdown",
     "checksum": "f2bccf9794a4c9efd92100928a3f022e",
     "grade": false,
     "grade_id": "cell-abb560c26ec49a12",
     "locked": true,
     "schema_version": 3,
     "solution": false,
     "task": false
    }
   },
   "source": [
    "## 0) Setup\n",
    "\n",
    "We start with a number of required imports and set the data paths."
   ]
  },
  {
   "cell_type": "code",
   "execution_count": 3,
   "metadata": {
    "deletable": false,
    "editable": false,
    "nbgrader": {
     "cell_type": "code",
     "checksum": "e397a0e3a9f2b4ad956a4b67efb70529",
     "grade": false,
     "grade_id": "cell-f6bddc494c867188",
     "locked": true,
     "schema_version": 3,
     "solution": false,
     "task": false
    }
   },
   "outputs": [],
   "source": [
    "from matplotlib import pyplot as plt\n",
    "import mxnet as mx\n",
    "from mxnet.gluon.data.vision import transforms\n",
    "from mxnet.gluon.data.vision import FashionMNIST\n",
    "import numpy as np\n",
    "import os\n",
    "from pathlib import Path\n",
    "from tqdm import tqdm"
   ]
  },
  {
   "cell_type": "code",
   "execution_count": 4,
   "metadata": {
    "deletable": false,
    "editable": false,
    "nbgrader": {
     "cell_type": "code",
     "checksum": "340f681667b511ce348ad946ab4617c9",
     "grade": false,
     "grade_id": "cell-5f7e8a74007e1017",
     "locked": true,
     "schema_version": 3,
     "solution": false,
     "task": false
    }
   },
   "outputs": [],
   "source": [
    "M4_DATA = Path(os.getenv('DATA_DIR', '../../data'), 'module_4')\n",
    "M4_IMAGES = Path(M4_DATA, 'images')\n",
    "M4_MODELS = Path(M4_DATA, 'models')"
   ]
  },
  {
   "cell_type": "markdown",
   "metadata": {
    "deletable": false,
    "editable": false,
    "nbgrader": {
     "cell_type": "markdown",
     "checksum": "bb710ee3e61851413d0efa8fa50e44b5",
     "grade": false,
     "grade_id": "cell-95f0a503b6239c30",
     "locked": true,
     "schema_version": 3,
     "solution": false,
     "task": false
    }
   },
   "source": [
    "## 1) Data (& NDArray Operations)\n",
    "\n",
    "We'll use the in-built dataset called `FashionMNIST` which is a variant of the commonly used `MNIST` dataset. It consists of 60,000 training images and 10,000 test images, and each image is a 28px by 28px greyscale image. We'll start by creating the `dataset` and visualize an example image."
   ]
  },
  {
   "cell_type": "code",
   "execution_count": 5,
   "metadata": {
    "deletable": false,
    "editable": false,
    "nbgrader": {
     "cell_type": "code",
     "checksum": "1ed040aeb4a6597a4b1b6732e5ea1758",
     "grade": false,
     "grade_id": "cell-ddb747acaf729e37",
     "locked": true,
     "schema_version": 3,
     "solution": false,
     "task": false
    }
   },
   "outputs": [],
   "source": [
    "test_dataset = FashionMNIST(train=False, root=M4_IMAGES).transform_first(transforms.ToTensor())"
   ]
  },
  {
   "cell_type": "code",
   "execution_count": 6,
   "metadata": {},
   "outputs": [
    {
     "data": {
      "text/plain": [
       "<matplotlib.image.AxesImage at 0x7fba232caa58>"
      ]
     },
     "execution_count": 6,
     "metadata": {},
     "output_type": "execute_result"
    },
    {
     "data": {
      "image/png": "[encoded data removed]",
      "text/plain": [
       "<Figure size 432x288 with 1 Axes>"
      ]
     },
     "metadata": {
      "needs_background": "light"
     },
     "output_type": "display_data"
    }
   ],
   "source": [
    "sample_idx = 123\n",
    "sample_data, sample_label = test_dataset[sample_idx]\n",
    "plt.imshow(sample_data[0].asnumpy())  # 0 for first and only channel (since greyscale)."
   ]
  },
  {
   "cell_type": "markdown",
   "metadata": {
    "deletable": false,
    "editable": false,
    "nbgrader": {
     "cell_type": "markdown",
     "checksum": "ed2ca106a69f67ee2e77786e0a54f4c8",
     "grade": false,
     "grade_id": "cell-cdac79c9b0e7354e",
     "locked": true,
     "schema_version": 3,
     "solution": false,
     "task": false
    }
   },
   "source": [
    "One important step before passing images to the network is normalization: i.e. shifting and scaling the pixel values so that they are zero-centered on average and have unit variance.\n",
    "\n",
    "One method of normalization is pixelwise, where each **pixel** should have a unit normal distribution of values. Another is channelwise, where each **channel** should have a unit normal distribution of values. \n",
    "\n",
    "One of the first steps in the pixelwise approach is to calculate an 'average image' from the dataset. Using a sample of 1024 images, you should now implement a function to calculate the average intensity for every pixel. You'd typically want to calculate this from all samples of the dataset, but 1024 samples will be sufficient for now."
   ]
  },
  {
   "cell_type": "code",
   "execution_count": 7,
   "metadata": {},
   "outputs": [
    {
     "name": "stdout",
     "output_type": "stream",
     "text": [
      "(1024, 1, 28, 28)\n"
     ]
    }
   ],
   "source": [
    "test_dataloader = mx.gluon.data.DataLoader(test_dataset, shuffle=False, batch_size=1024)\n",
    "for data, label in test_dataloader:\n",
    "    break\n",
    "print(data.shape)"
   ]
  },
  {
   "cell_type": "code",
   "execution_count": 8,
   "metadata": {},
   "outputs": [
    {
     "data": {
      "text/plain": [
       "\n",
       "[[[0.00000000e+00 1.14889708e-05 5.74448568e-05 2.10631129e-04\n",
       "   4.32751229e-04 9.07628681e-04 3.33180162e-03 9.28691775e-03\n",
       "   2.08409932e-02 5.17961122e-02 1.22805610e-01 1.76068485e-01\n",
       "   1.91180304e-01 1.90881595e-01 1.88177854e-01 1.98870257e-01\n",
       "   2.00076595e-01 1.50386795e-01 9.64039564e-02 4.18428332e-02\n",
       "   1.67202819e-02 9.07628704e-03 5.33088250e-03 4.30453429e-03\n",
       "   1.67356012e-03 4.28921572e-04 2.06801473e-04 3.10202216e-04]\n",
       "  [0.00000000e+00 3.82965709e-06 1.03400744e-04 7.12316192e-04\n",
       "   1.51271455e-03 6.77083340e-03 2.79947929e-02 6.78308830e-02\n",
       "   1.20458029e-01 2.01861218e-01 3.07651669e-01 3.90686274e-01\n",
       "   4.42126244e-01 4.36757058e-01 4.23705578e-01 4.47418809e-01\n",
       "   4.33111221e-01 3.56349587e-01 2.81449139e-01 1.80637255e-01\n",
       "   1.01256132e-01 5.07467836e-02 2.25451905e-02 1.36144301e-02\n",
       "   1.01217832e-02 3.29733477e-03 1.01485907e-03 2.10631129e-04]\n",
       "  [0.00000000e+00 6.77849283e-04 1.42080279e-03 2.47395854e-03\n",
       "   7.00827222e-03 3.16904113e-02 8.74387249e-02 1.37729779e-01\n",
       "   1.97591156e-01 2.78952211e-01 3.63752306e-01 3.97572011e-01\n",
       "   4.15242046e-01 4.17658567e-01 4.20841008e-01 4.20783550e-01\n",
       "   4.12002146e-01 3.98261338e-01 3.56747866e-01 2.60780483e-01\n",
       "   1.75271913e-01 1.26447618e-01 6.99180439e-02 2.80828737e-02\n",
       "   1.65326297e-02 1.01524210e-02 3.16712633e-03 3.06372560e-04]\n",
       "  [3.06372560e-04 1.51654414e-03 1.34803925e-03 4.63388488e-03\n",
       "   1.91176478e-02 7.42225796e-02 1.41191795e-01 1.93347886e-01\n",
       "   2.53335625e-01 3.22097123e-01 3.86205584e-01 3.95952046e-01\n",
       "   4.04515177e-01 4.08708632e-01 4.09899682e-01 4.12442565e-01\n",
       "   4.15805012e-01 4.06196386e-01 3.83865654e-01 3.24142158e-01\n",
       "   2.43895531e-01 1.88480392e-01 1.28381595e-01 6.23583049e-02\n",
       "   2.65088864e-02 1.59620102e-02 6.63296599e-03 1.30208337e-03]\n",
       "  [3.82965693e-04 1.69653806e-03 2.34757969e-03 1.10140936e-02\n",
       "   3.98092829e-02 1.15008429e-01 1.91609219e-01 2.30943635e-01\n",
       "   2.81770825e-01 3.46993715e-01 3.95316333e-01 4.01776969e-01\n",
       "   4.04476881e-01 4.06085342e-01 4.15479481e-01 4.22617972e-01\n",
       "   4.30690885e-01 4.25827205e-01 4.10864741e-01 3.53630513e-01\n",
       "   2.93527871e-01 2.45335490e-01 1.81177244e-01 9.88817438e-02\n",
       "   4.82536778e-02 2.59382669e-02 1.42846201e-02 2.50076596e-03]\n",
       "  [5.66789240e-04 1.75781257e-03 6.38403837e-03 2.12162994e-02\n",
       "   6.64713532e-02 1.53013945e-01 2.25061283e-01 2.55687058e-01\n",
       "   3.01692724e-01 3.61848950e-01 3.97319257e-01 4.05828744e-01\n",
       "   4.06947017e-01 4.14208025e-01 4.30208325e-01 4.38553154e-01\n",
       "   4.43405330e-01 4.49797034e-01 4.32778031e-01 3.90062034e-01\n",
       "   3.29986215e-01 2.88189352e-01 2.42290899e-01 1.49965540e-01\n",
       "   8.45779702e-02 5.49211092e-02 2.80101113e-02 5.15854778e-03]\n",
       "  [1.02251838e-03 4.39644605e-03 1.47748161e-02 3.49226408e-02\n",
       "   9.24402624e-02 1.87568933e-01 2.46610761e-01 2.81763166e-01\n",
       "   3.15418214e-01 3.67356002e-01 4.00903821e-01 4.12825525e-01\n",
       "   4.13461238e-01 4.24858302e-01 4.46913302e-01 4.60117966e-01\n",
       "   4.66999859e-01 4.78308827e-01 4.58233774e-01 4.20714617e-01\n",
       "   3.65877777e-01 3.23935360e-01 2.84995407e-01 1.94401041e-01\n",
       "   1.20913759e-01 8.60945210e-02 4.46078442e-02 9.02267173e-03]\n",
       "  [2.14843755e-03 6.66360324e-03 1.71568636e-02 4.52550575e-02\n",
       "   1.13422953e-01 2.06694245e-01 2.67620265e-01 3.02033544e-01\n",
       "   3.29710484e-01 3.66636038e-01 4.02198225e-01 4.23471987e-01\n",
       "   4.21913296e-01 4.35217530e-01 4.50455725e-01 4.77604181e-01\n",
       "   4.93930012e-01 5.00130236e-01 4.81468290e-01 4.42593455e-01\n",
       "   4.03829664e-01 3.66670489e-01 3.21829051e-01 2.35945165e-01\n",
       "   1.56931683e-01 1.12886794e-01 6.01026379e-02 1.09949457e-02]\n",
       "  [3.43520241e-03 9.43627488e-03 2.41230093e-02 5.46760112e-02\n",
       "   1.27366737e-01 2.19270840e-01 2.77025908e-01 3.20078909e-01\n",
       "   3.38729322e-01 3.66735607e-01 4.09225643e-01 4.33988214e-01\n",
       "   4.31782335e-01 4.41747099e-01 4.50022995e-01 5.02014399e-01\n",
       "   5.32379746e-01 5.25945961e-01 4.95913774e-01 4.66425419e-01\n",
       "   4.33252931e-01 3.93765330e-01 3.49957883e-01 2.73043036e-01\n",
       "   1.85297951e-01 1.36163458e-01 7.28975162e-02 1.52037386e-02]\n",
       "  [4.99770232e-03 1.39399515e-02 2.91130524e-02 6.18949160e-02\n",
       "   1.38422951e-01 2.32004449e-01 2.83727795e-01 3.26489747e-01\n",
       "   3.42604935e-01 3.66479009e-01 4.12431061e-01 4.36021775e-01\n",
       "   4.44971681e-01 4.65318650e-01 4.72089469e-01 5.45090377e-01\n",
       "   5.69217205e-01 5.63526332e-01 5.17880678e-01 4.81384039e-01\n",
       "   4.51505065e-01 4.17861521e-01 3.78335625e-01 3.08390796e-01\n",
       "   2.18585327e-01 1.68669581e-01 8.82391259e-02 1.93321090e-02]\n",
       "  [5.43428306e-03 1.97074153e-02 3.32452506e-02 6.98912367e-02\n",
       "   1.52029723e-01 2.38384649e-01 2.86006451e-01 3.31039369e-01\n",
       "   3.53668809e-01 3.77596527e-01 4.32716757e-01 4.55702364e-01\n",
       "   4.76160407e-01 5.00030637e-01 5.02267182e-01 5.73449016e-01\n",
       "   5.88376999e-01 5.90333939e-01 5.47560513e-01 5.00888467e-01\n",
       "   4.69669133e-01 4.36825991e-01 3.98441344e-01 3.35991114e-01\n",
       "   2.49731928e-01 2.05867037e-01 1.14958644e-01 2.10401360e-02]\n",
       "  [6.16191793e-03 2.09329054e-02 3.37737463e-02 7.13465065e-02\n",
       "   1.55457258e-01 2.38886341e-01 2.84202665e-01 3.34018856e-01\n",
       "   3.61029416e-01 3.87844682e-01 4.66429234e-01 4.91961569e-01\n",
       "   5.07797182e-01 5.23820460e-01 5.36243856e-01 5.88361681e-01\n",
       "   5.94098508e-01 5.99425554e-01 5.76696575e-01 5.26332736e-01\n",
       "   5.07130802e-01 4.55526203e-01 4.17256445e-01 3.56678933e-01\n",
       "   2.70228267e-01 2.34949455e-01 1.40199915e-01 2.24800855e-02]\n",
       "  [7.80484080e-03 2.63825059e-02 3.49226408e-02 7.32038915e-02\n",
       "   1.59114584e-01 2.38392308e-01 2.80805767e-01 3.36979181e-01\n",
       "   3.74908090e-01 4.19071704e-01 5.00398278e-01 5.15498638e-01\n",
       "   5.44443190e-01 5.40797353e-01 5.42241096e-01 5.97625613e-01\n",
       "   5.99609375e-01 6.06376410e-01 5.84750295e-01 5.35477936e-01\n",
       "   5.19588709e-01 4.74571079e-01 4.31292146e-01 3.68707865e-01\n",
       "   2.80461103e-01 2.42574304e-01 1.62434906e-01 3.04917283e-02]\n",
       "  [8.91161151e-03 2.99211107e-02 4.09083962e-02 8.38465095e-02\n",
       "   1.74211100e-01 2.53998160e-01 3.08007807e-01 3.61925572e-01\n",
       "   3.97610307e-01 4.51734841e-01 5.20293355e-01 5.50003827e-01\n",
       "   5.68527877e-01 5.63235283e-01 5.50356150e-01 6.01313591e-01\n",
       "   6.07958019e-01 6.14832282e-01 5.98291993e-01 5.31261504e-01\n",
       "   5.13687193e-01 4.86600041e-01 4.44695920e-01 3.84746492e-01\n",
       "   2.87461698e-01 2.46840537e-01 1.84520528e-01 4.17356007e-02]\n",
       "  [1.29633890e-02 4.60248180e-02 6.25995696e-02 1.10661767e-01\n",
       "   2.06215531e-01 2.90866286e-01 3.41126680e-01 3.79932612e-01\n",
       "   4.06609982e-01 4.80821073e-01 5.43929994e-01 5.64430177e-01\n",
       "   5.87040424e-01 5.68129599e-01 5.44312954e-01 6.05185390e-01\n",
       "   6.17474735e-01 6.19772553e-01 5.96476734e-01 5.28010130e-01\n",
       "   5.00708520e-01 4.82900590e-01 4.44121480e-01 3.89568031e-01\n",
       "   2.95722276e-01 2.48165593e-01 2.02994794e-01 5.23858778e-02]\n",
       "  [2.31464468e-02 6.98835775e-02 8.74310657e-02 1.42895997e-01\n",
       "   2.39541218e-01 3.13331038e-01 3.59248638e-01 3.95450383e-01\n",
       "   4.26945478e-01 5.10355413e-01 5.64196527e-01 5.87679982e-01\n",
       "   6.01413131e-01 5.73104322e-01 5.58727801e-01 6.10504746e-01\n",
       "   6.28423750e-01 6.21618450e-01 6.02673113e-01 5.35297930e-01\n",
       "   4.99245554e-01 4.91712630e-01 4.44301486e-01 3.92386645e-01\n",
       "   3.07758898e-01 2.52611816e-01 2.10673258e-01 5.88809773e-02]\n",
       "  [3.46737131e-02 9.77673158e-02 1.12588085e-01 1.71032473e-01\n",
       "   2.70837158e-01 3.39694411e-01 3.88032317e-01 4.02841598e-01\n",
       "   4.35680926e-01 5.30725360e-01 5.89426339e-01 6.04936421e-01\n",
       "   6.10738397e-01 5.83268225e-01 5.68221509e-01 6.09761834e-01\n",
       "   6.31027877e-01 6.29316032e-01 6.07674658e-01 5.48027754e-01\n",
       "   4.91907954e-01 4.82165307e-01 4.43531722e-01 3.97675395e-01\n",
       "   3.16375613e-01 2.56391704e-01 2.13028491e-01 6.28408417e-02]\n",
       "  [3.66536453e-02 1.04848348e-01 1.29273906e-01 1.92122400e-01\n",
       "   2.93535531e-01 3.55595142e-01 4.03385431e-01 4.10229027e-01\n",
       "   4.48314965e-01 5.53297341e-01 6.06544912e-01 6.24257028e-01\n",
       "   6.22081816e-01 5.86745560e-01 5.70519328e-01 6.07896745e-01\n",
       "   6.33272052e-01 6.23242199e-01 6.05426610e-01 5.37005961e-01\n",
       "   4.59034175e-01 4.60945159e-01 4.32142317e-01 3.84240955e-01\n",
       "   3.02657783e-01 2.38721669e-01 1.99881285e-01 5.66444546e-02]\n",
       "  [3.25176157e-02 1.04312196e-01 1.30269617e-01 1.87419578e-01\n",
       "   2.88438261e-01 3.46687347e-01 3.95435065e-01 3.97836238e-01\n",
       "   4.55277264e-01 5.53125024e-01 5.96890330e-01 6.12151504e-01\n",
       "   6.09252453e-01 5.68344057e-01 5.59195042e-01 5.92673898e-01\n",
       "   6.19983137e-01 6.09275460e-01 5.77090979e-01 5.10612011e-01\n",
       "   4.30855542e-01 4.28848803e-01 4.09803927e-01 3.64150584e-01\n",
       "   2.87105560e-01 2.20450372e-01 1.82165295e-01 5.29641546e-02]\n",
       "  [3.26937810e-02 9.39797834e-02 1.27699912e-01 1.93068326e-01\n",
       "   2.83505678e-01 3.42999399e-01 3.92091751e-01 3.79051775e-01\n",
       "   4.46357995e-01 5.34700513e-01 5.76175690e-01 5.90467989e-01\n",
       "   5.88530183e-01 5.50095737e-01 5.31698108e-01 5.71752489e-01\n",
       "   6.02010608e-01 5.81418514e-01 5.47005236e-01 4.89717394e-01\n",
       "   4.01865065e-01 4.10183072e-01 3.92401963e-01 3.48602176e-01\n",
       "   2.75264263e-01 2.11255372e-01 1.63388491e-01 4.37002145e-02]\n",
       "  [3.12614888e-02 8.89476091e-02 1.18899360e-01 1.83938429e-01\n",
       "   2.70255059e-01 3.32965702e-01 3.79105389e-01 3.65184605e-01\n",
       "   4.44868267e-01 5.28504133e-01 5.63273609e-01 5.82827806e-01\n",
       "   5.82498491e-01 5.45622706e-01 5.21545649e-01 5.62526822e-01\n",
       "   5.80782771e-01 5.61017931e-01 5.26784658e-01 4.68336403e-01\n",
       "   3.75608921e-01 3.85236681e-01 3.71664375e-01 3.28044593e-01\n",
       "   2.53082871e-01 1.87431067e-01 1.37561277e-01 3.38273607e-02]\n",
       "  [2.01899521e-02 7.00635761e-02 1.01344213e-01 1.63223803e-01\n",
       "   2.53745407e-01 3.15065891e-01 3.53619039e-01 3.39242488e-01\n",
       "   4.24931079e-01 5.05541503e-01 5.45186102e-01 5.62733591e-01\n",
       "   5.59386492e-01 5.22434115e-01 5.02665460e-01 5.30426621e-01\n",
       "   5.43535531e-01 5.25792718e-01 4.80235159e-01 4.25202966e-01\n",
       "   3.37051928e-01 3.45032930e-01 3.40016097e-01 2.97418803e-01\n",
       "   2.22437963e-01 1.58053771e-01 1.04921110e-01 2.52374392e-02]\n",
       "  [1.62339155e-02 5.32820188e-02 8.32835510e-02 1.41103715e-01\n",
       "   2.32429534e-01 2.95082718e-01 3.22357535e-01 3.12174499e-01\n",
       "   4.01799947e-01 4.74287689e-01 5.12978733e-01 5.34283102e-01\n",
       "   5.28025448e-01 4.89548862e-01 4.62500006e-01 4.87082571e-01\n",
       "   5.02198219e-01 4.81112152e-01 4.32272524e-01 3.92076433e-01\n",
       "   3.10213715e-01 3.06774676e-01 3.11875761e-01 2.68638939e-01\n",
       "   1.94469973e-01 1.25938267e-01 7.57046565e-02 1.68466605e-02]\n",
       "  [1.39399515e-02 3.67915146e-02 6.44799322e-02 1.20435052e-01\n",
       "   2.06131279e-01 2.71212488e-01 2.86473662e-01 2.79365808e-01\n",
       "   3.69412541e-01 4.31506604e-01 4.71005678e-01 5.01160383e-01\n",
       "   4.95163143e-01 4.58773762e-01 4.28335637e-01 4.42555159e-01\n",
       "   4.62722123e-01 4.36270684e-01 3.93941492e-01 3.57651651e-01\n",
       "   2.71897972e-01 2.65785843e-01 2.74433225e-01 2.34692872e-01\n",
       "   1.62714466e-01 9.92225781e-02 5.28148003e-02 1.04741119e-02]\n",
       "  [8.67417268e-03 2.43527889e-02 4.68903184e-02 1.01577818e-01\n",
       "   1.80951297e-01 2.41249233e-01 2.52776504e-01 2.40847126e-01\n",
       "   3.33655030e-01 3.90226722e-01 4.27906722e-01 4.59532022e-01\n",
       "   4.49253231e-01 4.16766256e-01 3.84983927e-01 4.03247565e-01\n",
       "   4.23778355e-01 4.02753532e-01 3.65188420e-01 3.22234988e-01\n",
       "   2.41582423e-01 2.31303617e-01 2.38886341e-01 2.06188723e-01\n",
       "   1.38618261e-01 7.60493279e-02 3.47158387e-02 6.34574145e-03]\n",
       "  [2.58118892e-03 1.19064040e-02 3.02542895e-02 7.90479481e-02\n",
       "   1.57463998e-01 2.17796415e-01 2.19837621e-01 2.05484077e-01\n",
       "   2.79358149e-01 3.33589911e-01 3.71534169e-01 4.02225047e-01\n",
       "   3.96185666e-01 3.64391863e-01 3.33226115e-01 3.45396757e-01\n",
       "   3.73720914e-01 3.56889546e-01 3.20224434e-01 2.80641079e-01\n",
       "   2.06368729e-01 1.97637111e-01 2.17382818e-01 1.85860917e-01\n",
       "   1.13216147e-01 5.44538908e-02 1.94201898e-02 3.10968142e-03]\n",
       "  [1.50122552e-03 3.62668512e-03 1.52228866e-02 5.68742342e-02\n",
       "   1.30445778e-01 1.88518688e-01 1.91210940e-01 1.76876530e-01\n",
       "   2.32628673e-01 2.92880684e-01 3.39012712e-01 3.73242199e-01\n",
       "   3.71763945e-01 3.40981156e-01 3.11511964e-01 3.28519464e-01\n",
       "   3.56146604e-01 3.38645071e-01 2.91448385e-01 2.37710640e-01\n",
       "   1.71614587e-01 1.69286162e-01 1.93792135e-01 1.59087777e-01\n",
       "   8.94607827e-02 3.65425870e-02 8.67417268e-03 2.09865207e-03]\n",
       "  [2.37438740e-04 8.65502458e-04 3.52711393e-03 1.91636030e-02\n",
       "   5.25505543e-02 8.22954997e-02 7.93428347e-02 6.34306073e-02\n",
       "   8.53707120e-02 1.15330122e-01 1.56119794e-01 1.91574752e-01\n",
       "   1.94561899e-01 1.72238827e-01 1.61542594e-01 1.68822765e-01\n",
       "   1.84195012e-01 1.67922795e-01 1.25811890e-01 8.87063444e-02\n",
       "   6.54335171e-02 6.93091303e-02 9.32636335e-02 6.87002167e-02\n",
       "   3.18397693e-02 1.16996020e-02 3.24754906e-03 7.73590698e-04]]]\n",
       "<NDArray 1x28x28 @cpu(0)>"
      ]
     },
     "execution_count": 8,
     "metadata": {},
     "output_type": "execute_result"
    }
   ],
   "source": [
    "avg_img = mx.ndarray.mean(data=data, axis=(0))\n",
    "avg_img"
   ]
  },
  {
   "cell_type": "code",
   "execution_count": 9,
   "metadata": {
    "deletable": false,
    "nbgrader": {
     "cell_type": "code",
     "checksum": "028925a530e2ed4d602226963e5e3409",
     "grade": false,
     "grade_id": "cell-c347c7c9342cbeb1",
     "locked": false,
     "schema_version": 3,
     "solution": true,
     "task": false
    }
   },
   "outputs": [],
   "source": [
    "def get_average_image_from_batch(batch):\n",
    "    avg_img = mx.ndarray.mean(data=batch, axis=(0))\n",
    "    return avg_img\n",
    "    \"\"\"\n",
    "    Given a batch of images, this function should calculate the 'average image'.\n",
    "    \n",
    "    :param batch: batch of images in NCHW layout.\n",
    "    :type batch: mx.nd.NDArray\n",
    "    \n",
    "    :return: average image in CHW layout.\n",
    "    :rtype: mx.nd.NDArray\n",
    "    \"\"\"\n",
    "    # YOUR CODE HERE\n",
    "    raise NotImplementedError()"
   ]
  },
  {
   "cell_type": "code",
   "execution_count": 10,
   "metadata": {
    "deletable": false,
    "editable": false,
    "nbgrader": {
     "cell_type": "code",
     "checksum": "7afa5949415bf47373e5760b8df699c3",
     "grade": true,
     "grade_id": "cell-1b3d8700f95a0e26",
     "locked": true,
     "points": 1,
     "schema_version": 3,
     "solution": false,
     "task": false
    }
   },
   "outputs": [
    {
     "data": {
      "text/plain": [
       "<matplotlib.image.AxesImage at 0x7fba231eeb38>"
      ]
     },
     "execution_count": 10,
     "metadata": {},
     "output_type": "execute_result"
    },
    {
     "data": {
      "image/png": "[encoded data removed]",
      "text/plain": [
       "<Figure size 432x288 with 1 Axes>"
      ]
     },
     "metadata": {
      "needs_background": "light"
     },
     "output_type": "display_data"
    }
   ],
   "source": [
    "average_image = get_average_image_from_batch(data)\n",
    "assert average_image.shape == (1, 28, 28)\n",
    "plt.imshow(average_image[0].asnumpy())  # 0 for first and only channel (since greyscale)."
   ]
  },
  {
   "cell_type": "markdown",
   "metadata": {
    "deletable": false,
    "editable": false,
    "nbgrader": {
     "cell_type": "markdown",
     "checksum": "1c60c3d88653d4d13ddfc97a891d2041",
     "grade": false,
     "grade_id": "cell-8289081a2395a032",
     "locked": true,
     "schema_version": 3,
     "solution": false,
     "task": false
    }
   },
   "source": [
    "Using the average image that was calculated above, you should now implement a function to perform the pixelwise normalization."
   ]
  },
  {
   "cell_type": "code",
   "execution_count": 11,
   "metadata": {},
   "outputs": [
    {
     "data": {
      "text/plain": [
       "<matplotlib.image.AxesImage at 0x7fba231745f8>"
      ]
     },
     "execution_count": 11,
     "metadata": {},
     "output_type": "execute_result"
    },
    {
     "data": {
      "image/png": "[encoded data removed]",
      "text/plain": [
       "<Figure size 432x288 with 1 Axes>"
      ]
     },
     "metadata": {
      "needs_background": "light"
     },
     "output_type": "display_data"
    }
   ],
   "source": [
    "plt.imshow(sample_data[0].asnumpy())"
   ]
  },
  {
   "cell_type": "code",
   "execution_count": 14,
   "metadata": {
    "deletable": false,
    "nbgrader": {
     "cell_type": "code",
     "checksum": "237357a2b5ce96f61e37e68a000aae79",
     "grade": false,
     "grade_id": "cell-970eddb5f76be1f0",
     "locked": false,
     "schema_version": 3,
     "solution": true,
     "task": false
    }
   },
   "outputs": [],
   "source": [
    "def subtract_average_image(sample, average_image):\n",
    "    sample_norm = mx.ndarray.norm(sample,axis=0)\n",
    "    avg_img_norm = mx.ndarray.norm(average_image,axis=0)\n",
    "    norm_img = sample_norm - avg_img_norm\n",
    "    otp = norm_img.expand_dims(axis=0)\n",
    "    return otp\n",
    "    \"\"\"\n",
    "    Given a sample images, this function should return a pixelwise normalized image,\n",
    "    using a pre-calculated average image.\n",
    "    \n",
    "    :param sample: sample image in CHW layout.\n",
    "    :type sample: mx.nd.NDArray\n",
    "    :param average_image: average image of the dataset in CHW layout.\n",
    "    :type average_image: mx.nd.NDArray\n",
    "    \n",
    "    :return: pixelwise normalized image in CHW layout.\n",
    "    :rtype: mx.nd.NDArray\n",
    "    \"\"\"\n",
    "    # YOUR CODE HERE\n",
    "    raise NotImplementedError()"
   ]
  },
  {
   "cell_type": "code",
   "execution_count": 15,
   "metadata": {
    "deletable": false,
    "editable": false,
    "nbgrader": {
     "cell_type": "code",
     "checksum": "93a9e45c83be15ffd405137234e41c24",
     "grade": true,
     "grade_id": "cell-4f8cfd20e9027638",
     "locked": true,
     "points": 1,
     "schema_version": 3,
     "solution": false,
     "task": false
    }
   },
   "outputs": [
    {
     "data": {
      "text/plain": [
       "<matplotlib.image.AxesImage at 0x7fba23107550>"
      ]
     },
     "execution_count": 15,
     "metadata": {},
     "output_type": "execute_result"
    },
    {
     "data": {
      "image/png": "[encoded data removed]",
      "text/plain": [
       "<Figure size 432x288 with 1 Axes>"
      ]
     },
     "metadata": {
      "needs_background": "light"
     },
     "output_type": "display_data"
    }
   ],
   "source": [
    "normalized_sample_data = subtract_average_image(sample_data, average_image)\n",
    "assert normalized_sample_data.shape == (1, 28, 28)\n",
    "np.testing.assert_array_almost_equal(normalized_sample_data.asnumpy(), (sample_data - average_image).asnumpy())\n",
    "plt.imshow(normalized_sample_data[0].asnumpy())  # 0 for first and only channel (since greyscale)."
   ]
  },
  {
   "cell_type": "markdown",
   "metadata": {},
   "source": [
    "You've now created a transform for pixelwise normalization! As mentioned previously, another common method for normalization is channelwise normalization. Complete the following function to calculate the channel averages from a batch of multi-channel inputs.\n",
    "\n",
    "Note: although the image from our dataset only have one channel, your function should support cases where there are more than one channel (e.g. RGB images).\n",
    "\n",
    "**Hint**: Check out the `axis` (or `dim`) arguments on MXNet NDArray functions."
   ]
  },
  {
   "cell_type": "code",
   "execution_count": 16,
   "metadata": {},
   "outputs": [
    {
     "data": {
      "text/plain": [
       "(1024, 1, 28, 28)"
      ]
     },
     "execution_count": 16,
     "metadata": {},
     "output_type": "execute_result"
    }
   ],
   "source": [
    "data.shape"
   ]
  },
  {
   "cell_type": "code",
   "execution_count": 17,
   "metadata": {
    "deletable": false,
    "nbgrader": {
     "cell_type": "code",
     "checksum": "a20aa5394fbb2a4d50af68667ed995c6",
     "grade": false,
     "grade_id": "cell-d2bd82c63c0c28c9",
     "locked": false,
     "schema_version": 3,
     "solution": true,
     "task": false
    }
   },
   "outputs": [],
   "source": [
    "def get_channel_average_from_batch(batch):\n",
    "    avg_img = mx.ndarray.mean(data=batch, axis=(0,2,3))\n",
    "    return avg_img\n",
    "    \"\"\"\n",
    "    Given a batch of images, this function should return the\n",
    "    average value for each channel across the images of the batch.\n",
    "    \n",
    "    :param batch: batch of images in NCHW layout.\n",
    "    :type batch: mx.nd.NDArray\n",
    "    \n",
    "    :return: channel averages in C layout.\n",
    "    :rtype: mx.nd.NDArray\n",
    "    \"\"\"\n",
    "    # YOUR CODE HERE\n",
    "    raise NotImplementedError()"
   ]
  },
  {
   "cell_type": "code",
   "execution_count": 18,
   "metadata": {
    "deletable": false,
    "editable": false,
    "nbgrader": {
     "cell_type": "code",
     "checksum": "61ce9104b23fdb0b51a498914c9375b3",
     "grade": true,
     "grade_id": "cell-1132428ff435fdff",
     "locked": true,
     "points": 1,
     "schema_version": 3,
     "solution": false,
     "task": false
    }
   },
   "outputs": [
    {
     "name": "stdout",
     "output_type": "stream",
     "text": [
      "0.28757906\n"
     ]
    }
   ],
   "source": [
    "channel_average = get_channel_average_from_batch(data).asscalar()\n",
    "print(channel_average)\n",
    "assert isinstance(channel_average, np.float32)\n",
    "np.testing.assert_almost_equal(channel_average, 0.28757906, decimal=5)\n",
    "\n",
    "test_averages = mx.nd.array([1,2,3,4])\n",
    "test_input = mx.nd.reshape(test_averages, shape=(1,4,1,1)) * mx.nd.ones(shape=(10,4,25,25))\n",
    "test_channel_average = get_channel_average_from_batch(test_input)\n",
    "np.testing.assert_array_almost_equal(test_averages.asnumpy(), test_channel_average.asnumpy())"
   ]
  },
  {
   "cell_type": "markdown",
   "metadata": {
    "deletable": false,
    "editable": false,
    "nbgrader": {
     "cell_type": "markdown",
     "checksum": "ebf52b1649339c3bc81609fd7d8eb8a6",
     "grade": false,
     "grade_id": "cell-2fea1fe63abd02d1",
     "locked": true,
     "schema_version": 3,
     "solution": false,
     "task": false
    }
   },
   "source": [
    "Using this channel average, we can use the `Normalize` transform to apply this to all samples in our dataset as they are loaded."
   ]
  },
  {
   "cell_type": "code",
   "execution_count": 19,
   "metadata": {
    "deletable": false,
    "editable": false,
    "nbgrader": {
     "cell_type": "code",
     "checksum": "7c8c7678fffe3316b1d26df20948d9d3",
     "grade": false,
     "grade_id": "cell-1406cf76c0bf2d9c",
     "locked": true,
     "schema_version": 3,
     "solution": false,
     "task": false
    }
   },
   "outputs": [],
   "source": [
    "channel_std = 0.31\n",
    "transform = transforms.Compose([\n",
    "    transforms.ToTensor(),\n",
    "    transforms.Normalize(channel_average, channel_std)\n",
    "])"
   ]
  },
  {
   "cell_type": "code",
   "execution_count": 20,
   "metadata": {
    "deletable": false,
    "editable": false,
    "nbgrader": {
     "cell_type": "code",
     "checksum": "997486e117bb21d91c6c6d2e1793d5e1",
     "grade": false,
     "grade_id": "cell-09b598f5df48310e",
     "locked": true,
     "schema_version": 3,
     "solution": false,
     "task": false
    }
   },
   "outputs": [],
   "source": [
    "train_dataset = FashionMNIST(train=True, root=M4_IMAGES).transform_first(transform)\n",
    "test_dataset = FashionMNIST(train=False, root=M4_IMAGES).transform_first(transform)\n",
    "train_dataloader = mx.gluon.data.DataLoader(train_dataset, shuffle=True, batch_size=128)\n",
    "test_dataloader = mx.gluon.data.DataLoader(train_dataset, shuffle=False, batch_size=128)"
   ]
  },
  {
   "cell_type": "markdown",
   "metadata": {},
   "source": [
    "## 2) Metrics\n",
    "\n",
    "In this section, you'll implement a function to test the prediction quality of networks. Using `Accuracy` as the evaluation metric, complete the following function that takes a network and a dataloader (with test data) and returns an MXNet Metric that has been updated with labels and predictions. We'll use this function in the next section, when we train classification networks.\n",
    "\n",
    "**Hint**: You'll find classes in the `mxnet.metric` subpackage useful for this task."
   ]
  },
  {
   "cell_type": "code",
   "execution_count": 25,
   "metadata": {},
   "outputs": [],
   "source": []
  },
  {
   "cell_type": "code",
   "execution_count": 28,
   "metadata": {
    "deletable": false,
    "nbgrader": {
     "cell_type": "code",
     "checksum": "648cf62a617935ea6d929c14af92eb8b",
     "grade": false,
     "grade_id": "cell-5fab64bc4b4aa8dc",
     "locked": false,
     "schema_version": 3,
     "solution": true,
     "task": false
    }
   },
   "outputs": [],
   "source": [
    "def calculate_accuracy(network, dataloader):\n",
    "    \"\"\"\n",
    "    Calculates accuracy of the network on the data given by the dataloader.\n",
    "    \n",
    "    :param network: network to be tested\n",
    "    :type network: mx.gluon.Block\n",
    "    :param dataloader: dataloader for test data\n",
    "    :type dataloader: mx.gluon.data.DataLoader\n",
    "    \n",
    "    :return: updated metric\n",
    "    :rtype: mx.metric.EvalMetric\n",
    "    \"\"\"\n",
    "    # YOUR CODE HERE\n",
    "    accuracy = mx.metric.Accuracy()\n",
    "#     raise NotImplementedError()\n",
    "    for data, labels in tqdm(dataloader):\n",
    "        preds = network(data)\n",
    "        # YOUR CODE HERE\n",
    "        accuracy.update(labels,preds)\n",
    "#         raise NotImplementedError()\n",
    "    return accuracy"
   ]
  },
  {
   "cell_type": "code",
   "execution_count": 29,
   "metadata": {
    "deletable": false,
    "editable": false,
    "nbgrader": {
     "cell_type": "code",
     "checksum": "2a5f1bac4bcf9a3e81d52ea269a61070",
     "grade": true,
     "grade_id": "cell-56296ecc0573751e",
     "locked": true,
     "points": 2,
     "schema_version": 3,
     "solution": false,
     "task": false
    }
   },
   "outputs": [
    {
     "name": "stderr",
     "output_type": "stream",
     "text": [
      "100%|██████████| 469/469 [00:42<00:00, 10.84it/s]"
     ]
    },
    {
     "name": "stdout",
     "output_type": "stream",
     "text": [
      "('accuracy', 0.06891666666666667)\n"
     ]
    },
    {
     "name": "stderr",
     "output_type": "stream",
     "text": [
      "\n"
     ]
    }
   ],
   "source": [
    "test_network = mx.gluon.nn.Dense(units=10)\n",
    "test_network.initialize()\n",
    "metric = calculate_accuracy(test_network, test_dataloader)\n",
    "print(metric.get())\n",
    "isinstance(metric, mx.metric.EvalMetric)\n",
    "assert metric.name == 'accuracy'\n",
    "assert metric.num_inst == 60000"
   ]
  },
  {
   "cell_type": "markdown",
   "metadata": {
    "deletable": false,
    "editable": false,
    "nbgrader": {
     "cell_type": "markdown",
     "checksum": "cb82044f0fc5c506b7e0ded91ed9b428",
     "grade": false,
     "grade_id": "cell-3f04789a1e05233e",
     "locked": true,
     "schema_version": 3,
     "solution": false,
     "task": false
    }
   },
   "source": [
    "## 3) Network"
   ]
  },
  {
   "cell_type": "markdown",
   "metadata": {},
   "source": [
    "In the section, you'll implement a couple of different image classification networks and train then on the `FashionMNIST` dataset. A `train` function is already provided in this assignment, because the focus will be on network construction."
   ]
  },
  {
   "cell_type": "code",
   "execution_count": 40,
   "metadata": {
    "deletable": false,
    "editable": false,
    "nbgrader": {
     "cell_type": "code",
     "checksum": "77f5bee4daf2e646e8b00a4cb792c9ab",
     "grade": false,
     "grade_id": "cell-027a252196f10f5c",
     "locked": true,
     "schema_version": 3,
     "solution": false,
     "task": false
    }
   },
   "outputs": [],
   "source": [
    "def train(network, dataloader):\n",
    "    softmax_cross_entropy = mx.gluon.loss.SoftmaxCrossEntropyLoss()\n",
    "    trainer = mx.gluon.Trainer(network.collect_params(), 'sgd', {'learning_rate': 0.1})\n",
    "    for data, label in tqdm(dataloader):\n",
    "        with mx.autograd.record():\n",
    "            output = network(data)\n",
    "            loss = softmax_cross_entropy(output, label)\n",
    "        loss.backward()\n",
    "        trainer.step(data.shape[0])"
   ]
  },
  {
   "cell_type": "markdown",
   "metadata": {
    "deletable": false,
    "editable": false,
    "nbgrader": {
     "cell_type": "markdown",
     "checksum": "3d078ccad213eb7f0540c0e0a7f4fd6f",
     "grade": false,
     "grade_id": "cell-8835b94cce73c05b",
     "locked": true,
     "schema_version": 3,
     "solution": false,
     "task": false
    }
   },
   "source": [
    "Your first model should be a sequential network, with 3 layers. You first layer should have 16 hidden units, the second should have 8 hidden units and the last layer should the correct number of output units for the classification task at hand. You should add ReLU activations on all hidden layers, but not the output layer. You should define `network` in the cell below.\n",
    "\n",
    "**Hint**: You'll find classes in the `mxnet.gluon.nn` subpackage useful for this task."
   ]
  },
  {
   "cell_type": "code",
   "execution_count": 32,
   "metadata": {
    "deletable": false,
    "nbgrader": {
     "cell_type": "code",
     "checksum": "d35d987cac115ee0c6fcde1ccf9395ab",
     "grade": false,
     "grade_id": "cell-60d2aed0c10748dc",
     "locked": false,
     "schema_version": 3,
     "solution": true,
     "task": false
    }
   },
   "outputs": [],
   "source": [
    "from mxnet.gluon import nn, model_zoo\n",
    "network = nn.Sequential()\n",
    "network.add(\n",
    "    nn.Dense(16, activation='relu'),\n",
    "    nn.Dense(8, activation='relu'),\n",
    "    nn.Dense(10)\n",
    ")\n",
    "# raise NotImplementedError()"
   ]
  },
  {
   "cell_type": "code",
   "execution_count": 33,
   "metadata": {
    "deletable": false,
    "editable": false,
    "nbgrader": {
     "cell_type": "code",
     "checksum": "bac44090ed660601c9bb11488e4457e8",
     "grade": true,
     "grade_id": "cell-fab27ff9cbdb32f3",
     "locked": true,
     "points": 2,
     "schema_version": 3,
     "solution": false,
     "task": false
    }
   },
   "outputs": [],
   "source": [
    "assert isinstance(network, mx.gluon.nn.Sequential)\n",
    "assert len(network) == 3\n",
    "assert isinstance(network[0], mx.gluon.nn.Dense)\n",
    "assert network[0].act.name.endswith('relu')\n",
    "assert network[0].weight.shape[0] == 16\n",
    "assert isinstance(network[1], mx.gluon.nn.Dense)\n",
    "assert network[1].act.name.endswith('relu')\n",
    "assert network[1].weight.shape[0] == 8\n",
    "assert isinstance(network[2], mx.gluon.nn.Dense)\n",
    "assert network[2].act is None\n",
    "assert network[2].weight.shape[0] == 10"
   ]
  },
  {
   "cell_type": "markdown",
   "metadata": {
    "deletable": false,
    "editable": false,
    "nbgrader": {
     "cell_type": "markdown",
     "checksum": "a12fc8925d662b2379c9da051c6ad04d",
     "grade": false,
     "grade_id": "cell-0c105c466260d8df",
     "locked": true,
     "schema_version": 3,
     "solution": false,
     "task": false
    }
   },
   "source": [
    "With your network now defined, you should initialize its parameters using the Xavier method in the cell below.\n",
    "\n",
    "**Hint**: You'll find classes in the `mxnet.init` subpackage useful for this task."
   ]
  },
  {
   "cell_type": "code",
   "execution_count": 36,
   "metadata": {
    "deletable": false,
    "nbgrader": {
     "cell_type": "code",
     "checksum": "5034e223765daeb8ff11357a8385621d",
     "grade": false,
     "grade_id": "cell-fa9e3830a921ccc1",
     "locked": false,
     "schema_version": 3,
     "solution": true,
     "task": false
    }
   },
   "outputs": [],
   "source": [
    "# YOUR CODE HERE\n",
    "from mxnet import init\n",
    "# layer.initialize(init.Xavier())\n",
    "initializer = init.Xavier()\n",
    "# raise NotImplementedError()\n",
    "network.initialize(initializer)"
   ]
  },
  {
   "cell_type": "code",
   "execution_count": 37,
   "metadata": {
    "deletable": false,
    "editable": false,
    "nbgrader": {
     "cell_type": "code",
     "checksum": "082079014c9879392a59ea4f9ba69b89",
     "grade": true,
     "grade_id": "cell-aab6f8ac1595ddf3",
     "locked": true,
     "points": 1,
     "schema_version": 3,
     "solution": false,
     "task": false
    }
   },
   "outputs": [],
   "source": [
    "assert isinstance(initializer, mx.initializer.Xavier)"
   ]
  },
  {
   "cell_type": "markdown",
   "metadata": {
    "deletable": false,
    "editable": false,
    "nbgrader": {
     "cell_type": "markdown",
     "checksum": "7b66a83fe4f502980f1aa332babea54a",
     "grade": false,
     "grade_id": "cell-71470ca5057ba4e7",
     "locked": true,
     "schema_version": 3,
     "solution": false,
     "task": false
    }
   },
   "source": [
    "We'll now check the network summary and see that the network has 12786 trainable parameters."
   ]
  },
  {
   "cell_type": "code",
   "execution_count": 38,
   "metadata": {
    "deletable": false,
    "editable": false,
    "nbgrader": {
     "cell_type": "code",
     "checksum": "59aea017252d590b7e5f1d59e4997cf6",
     "grade": false,
     "grade_id": "cell-a13e4f389f395b25",
     "locked": true,
     "schema_version": 3,
     "solution": false,
     "task": false
    }
   },
   "outputs": [
    {
     "name": "stdout",
     "output_type": "stream",
     "text": [
      "--------------------------------------------------------------------------------\n",
      "        Layer (type)                                Output Shape         Param #\n",
      "================================================================================\n",
      "               Input                           (1024, 1, 28, 28)               0\n",
      "        Activation-1                    <Symbol dense7_relu_fwd>               0\n",
      "        Activation-2                                  (1024, 16)               0\n",
      "             Dense-3                                  (1024, 16)           12560\n",
      "        Activation-4                    <Symbol dense8_relu_fwd>               0\n",
      "        Activation-5                                   (1024, 8)               0\n",
      "             Dense-6                                   (1024, 8)             136\n",
      "             Dense-7                                  (1024, 10)              90\n",
      "================================================================================\n",
      "Parameters in forward computation graph, duplicate included\n",
      "   Total params: 12786\n",
      "   Trainable params: 12786\n",
      "   Non-trainable params: 0\n",
      "Shared params in forward computation graph: 0\n",
      "Unique parameters in model: 12786\n",
      "--------------------------------------------------------------------------------\n"
     ]
    }
   ],
   "source": [
    "network.summary(data)"
   ]
  },
  {
   "cell_type": "markdown",
   "metadata": {
    "deletable": false,
    "editable": false,
    "nbgrader": {
     "cell_type": "markdown",
     "checksum": "d5770042162ac6a34dfd0eb57cef562a",
     "grade": false,
     "grade_id": "cell-f23f24b41797c698",
     "locked": true,
     "schema_version": 3,
     "solution": false,
     "task": false
    }
   },
   "source": [
    "And use the `calculate_accuracy` function defined in the previous section to evaluate the performance of this architecture."
   ]
  },
  {
   "cell_type": "code",
   "execution_count": 41,
   "metadata": {
    "deletable": false,
    "editable": false,
    "nbgrader": {
     "cell_type": "code",
     "checksum": "958cb52f6fea4c610ad6fb12b69c9cd6",
     "grade": false,
     "grade_id": "cell-15085d2bbec07611",
     "locked": true,
     "schema_version": 3,
     "solution": false,
     "task": false
    }
   },
   "outputs": [
    {
     "name": "stderr",
     "output_type": "stream",
     "text": [
      "100%|██████████| 469/469 [00:53<00:00,  8.68it/s]\n",
      "100%|██████████| 469/469 [00:46<00:00, 10.15it/s]"
     ]
    },
    {
     "name": "stdout",
     "output_type": "stream",
     "text": [
      "('accuracy', 0.82055)\n"
     ]
    },
    {
     "name": "stderr",
     "output_type": "stream",
     "text": [
      "\n"
     ]
    }
   ],
   "source": [
    "train(network, train_dataloader)\n",
    "metric = calculate_accuracy(network, test_dataloader)\n",
    "print(metric.get())"
   ]
  },
  {
   "cell_type": "markdown",
   "metadata": {
    "deletable": false,
    "editable": false,
    "nbgrader": {
     "cell_type": "markdown",
     "checksum": "aae608960225ca66817116e7e18a9247",
     "grade": false,
     "grade_id": "cell-b4bb794993da124b",
     "locked": true,
     "schema_version": 3,
     "solution": false,
     "task": false
    }
   },
   "source": [
    "You're final objective in this assignment is to try a different architecture that uses convolutional and max pooling layers. You should define another sequential network, but this time it should have 5 layers in total:\n",
    "\n",
    "1. Convolutional Layer (32 channels, 3x3 kernel and ReLU activation)\n",
    "2. Max Pooling Layer (2x2 kernel and 2x2 stride)\n",
    "3. Convolutional Layer (16 channels, 3x3 kernel and ReLU activation)\n",
    "4. Max Pooling Layer (2x2 kernel and 2x2 stride)\n",
    "5. Dense Layer (10 output units)"
   ]
  },
  {
   "cell_type": "code",
   "execution_count": 44,
   "metadata": {
    "deletable": false,
    "nbgrader": {
     "cell_type": "code",
     "checksum": "a2da3d4d690016aa9b1fddafe7c9f4c5",
     "grade": false,
     "grade_id": "cell-27362e76af20b586",
     "locked": false,
     "schema_version": 3,
     "solution": true,
     "task": false
    }
   },
   "outputs": [],
   "source": [
    "network = nn.Sequential()\n",
    "network.add(\n",
    "    nn.Conv2D(32, (3,3), activation='relu'),\n",
    "    nn.MaxPool2D((2,2)),\n",
    "    nn.Conv2D(16,(3,3),activation='relu'),\n",
    "    nn.MaxPool2D((2,2)),\n",
    "    nn.Dense(10)\n",
    ")\n",
    "# raise NotImplementedError()"
   ]
  },
  {
   "cell_type": "code",
   "execution_count": 45,
   "metadata": {
    "deletable": false,
    "editable": false,
    "nbgrader": {
     "cell_type": "code",
     "checksum": "658f43b3f172cefd8a416f9143c0cc9a",
     "grade": true,
     "grade_id": "cell-f6d99cca56b03a4c",
     "locked": true,
     "points": 2,
     "schema_version": 3,
     "solution": false,
     "task": false
    }
   },
   "outputs": [],
   "source": [
    "assert isinstance(network, mx.gluon.nn.Sequential)\n",
    "assert len(network) == 5\n",
    "assert isinstance(network[0], mx.gluon.nn.Conv2D)\n",
    "assert network[0].act.name.endswith('relu')\n",
    "assert network[0].weight.shape[0] == 32\n",
    "assert isinstance(network[1], mx.gluon.nn.MaxPool2D)\n",
    "assert isinstance(network[2], mx.gluon.nn.Conv2D)\n",
    "assert network[2].act.name.endswith('relu')\n",
    "assert network[2].weight.shape[0] == 16\n",
    "assert isinstance(network[3], mx.gluon.nn.MaxPool2D)\n",
    "assert isinstance(network[4], mx.gluon.nn.Dense)\n",
    "assert network[4].act is None\n",
    "assert network[4].weight.shape[0] == 10"
   ]
  },
  {
   "cell_type": "markdown",
   "metadata": {
    "deletable": false,
    "editable": false,
    "nbgrader": {
     "cell_type": "markdown",
     "checksum": "59680071ae46fddcb37e07b965fc9dbc",
     "grade": false,
     "grade_id": "cell-7aba8aa6bd98797e",
     "locked": true,
     "schema_version": 3,
     "solution": false,
     "task": false
    }
   },
   "source": [
    "Let's initialize the parameters of the network, and show a summary of the network architecture.\n",
    "\n",
    "With 8954 trainable parameters, this network's got 30% fewer parameters than the previous network."
   ]
  },
  {
   "cell_type": "code",
   "execution_count": 46,
   "metadata": {
    "deletable": false,
    "editable": false,
    "nbgrader": {
     "cell_type": "code",
     "checksum": "226a74a762a411b9a6ec985a7b3b4d02",
     "grade": false,
     "grade_id": "cell-5b9ad1023c066bbe",
     "locked": true,
     "schema_version": 3,
     "solution": false,
     "task": false
    }
   },
   "outputs": [
    {
     "name": "stdout",
     "output_type": "stream",
     "text": [
      "--------------------------------------------------------------------------------\n",
      "        Layer (type)                                Output Shape         Param #\n",
      "================================================================================\n",
      "               Input                           (1024, 1, 28, 28)               0\n",
      "        Activation-1                     <Symbol conv2_relu_fwd>               0\n",
      "        Activation-2                          (1024, 32, 26, 26)               0\n",
      "            Conv2D-3                          (1024, 32, 26, 26)             320\n",
      "         MaxPool2D-4                          (1024, 32, 13, 13)               0\n",
      "        Activation-5                     <Symbol conv3_relu_fwd>               0\n",
      "        Activation-6                          (1024, 16, 11, 11)               0\n",
      "            Conv2D-7                          (1024, 16, 11, 11)            4624\n",
      "         MaxPool2D-8                            (1024, 16, 5, 5)               0\n",
      "             Dense-9                                  (1024, 10)            4010\n",
      "================================================================================\n",
      "Parameters in forward computation graph, duplicate included\n",
      "   Total params: 8954\n",
      "   Trainable params: 8954\n",
      "   Non-trainable params: 0\n",
      "Shared params in forward computation graph: 0\n",
      "Unique parameters in model: 8954\n",
      "--------------------------------------------------------------------------------\n"
     ]
    }
   ],
   "source": [
    "network.initialize(init=initializer)\n",
    "network.summary(data)"
   ]
  },
  {
   "cell_type": "markdown",
   "metadata": {
    "deletable": false,
    "editable": false,
    "nbgrader": {
     "cell_type": "markdown",
     "checksum": "9c93f40630de025d96f78ca5df6f8b0a",
     "grade": false,
     "grade_id": "cell-3b2f9d639c371864",
     "locked": true,
     "schema_version": 3,
     "solution": false,
     "task": false
    }
   },
   "source": [
    "And finally, let's evaluate the network performance."
   ]
  },
  {
   "cell_type": "code",
   "execution_count": null,
   "metadata": {
    "deletable": false,
    "editable": false,
    "nbgrader": {
     "cell_type": "code",
     "checksum": "797450f201e5b58137770b5afbcdde27",
     "grade": false,
     "grade_id": "cell-6a0bbef7dab7fc86",
     "locked": true,
     "schema_version": 3,
     "solution": false,
     "task": false
    }
   },
   "outputs": [
    {
     "name": "stderr",
     "output_type": "stream",
     "text": [
      "100%|██████████| 469/469 [03:31<00:00,  1.79it/s]\n",
      "  0%|          | 0/469 [00:00<?, ?it/s]"
     ]
    }
   ],
   "source": [
    "train(network, train_dataloader)\n",
    "metric = calculate_accuracy(network, test_dataloader)\n",
    "print(metric.get())"
   ]
  },
  {
   "cell_type": "markdown",
   "metadata": {
    "deletable": false,
    "editable": false,
    "nbgrader": {
     "cell_type": "markdown",
     "checksum": "daac204b6befa96b9d1ceb3883b7dffb",
     "grade": false,
     "grade_id": "cell-9a3e6f798eaeb49b",
     "locked": true,
     "schema_version": 3,
     "solution": false,
     "task": false
    }
   },
   "source": [
    "We're only training for a single epoch here. You'd expect to get improved accuracy if training for more epochs. "
   ]
  }
 ],
 "metadata": {
  "coursera": {
   "assignment_name": "module_4",
   "assignment_version": 2,
   "course_slug": "aws-computer-vision-gluoncv",
   "graded_item_id": "FoZrl",
   "launcher_item_id": "vcm0m"
  },
  "kernelspec": {
   "display_name": "Python 3",
   "language": "python",
   "name": "python3"
  },
  "language_info": {
   "codemirror_mode": {
    "name": "ipython",
    "version": 3
   },
   "file_extension": ".py",
   "mimetype": "text/x-python",
   "name": "python",
   "nbconvert_exporter": "python",
   "pygments_lexer": "ipython3",
   "version": "3.7.3"
  }
 },
 "nbformat": 4,
 "nbformat_minor": 1
}
