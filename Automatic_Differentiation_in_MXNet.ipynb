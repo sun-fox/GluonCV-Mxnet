{
  "nbformat": 4,
  "nbformat_minor": 0,
  "metadata": {
    "colab": {
      "name": "Automatic Differentiation in MXNet.ipynb",
      "provenance": [],
      "authorship_tag": "ABX9TyOezg+9i+Bi3v1xcuchQuN3",
      "include_colab_link": true
    },
    "kernelspec": {
      "name": "python3",
      "display_name": "Python 3"
    }
  },
  "cells": [
    {
      "cell_type": "markdown",
      "metadata": {
        "id": "view-in-github",
        "colab_type": "text"
      },
      "source": [
        "<a href=\"https://colab.research.google.com/github/sun-fox/GluonCV-Mxnet/blob/master/Automatic_Differentiation_in_MXNet.ipynb\" target=\"_parent\"><img src=\"https://colab.research.google.com/assets/colab-badge.svg\" alt=\"Open In Colab\"/></a>"
      ]
    },
    {
      "cell_type": "code",
      "metadata": {
        "id": "9k9RqmtIAmoF",
        "colab_type": "code",
        "colab": {
          "base_uri": "https://localhost:8080/",
          "height": 692
        },
        "outputId": "d4f8988b-e455-4811-ae06-a28319770db5"
      },
      "source": [
        "!pip install mxnet-cu101mkl\n",
        "!pip install gluoncv"
      ],
      "execution_count": 1,
      "outputs": [
        {
          "output_type": "stream",
          "text": [
            "Collecting mxnet-cu101mkl\n",
            "\u001b[?25l  Downloading https://files.pythonhosted.org/packages/3d/4b/e51dc49ca5fe6564028e7c91b10a3f79c00d710dd691b408c77597df5883/mxnet_cu101mkl-1.6.0-py2.py3-none-manylinux1_x86_64.whl (711.0MB)\n",
            "\u001b[K     |████████████████████████████████| 711.0MB 20kB/s \n",
            "\u001b[?25hRequirement already satisfied: numpy<2.0.0,>1.16.0 in /usr/local/lib/python3.6/dist-packages (from mxnet-cu101mkl) (1.18.4)\n",
            "Collecting graphviz<0.9.0,>=0.8.1\n",
            "  Downloading https://files.pythonhosted.org/packages/53/39/4ab213673844e0c004bed8a0781a0721a3f6bb23eb8854ee75c236428892/graphviz-0.8.4-py2.py3-none-any.whl\n",
            "Requirement already satisfied: requests<3,>=2.20.0 in /usr/local/lib/python3.6/dist-packages (from mxnet-cu101mkl) (2.23.0)\n",
            "Requirement already satisfied: urllib3!=1.25.0,!=1.25.1,<1.26,>=1.21.1 in /usr/local/lib/python3.6/dist-packages (from requests<3,>=2.20.0->mxnet-cu101mkl) (1.24.3)\n",
            "Requirement already satisfied: chardet<4,>=3.0.2 in /usr/local/lib/python3.6/dist-packages (from requests<3,>=2.20.0->mxnet-cu101mkl) (3.0.4)\n",
            "Requirement already satisfied: certifi>=2017.4.17 in /usr/local/lib/python3.6/dist-packages (from requests<3,>=2.20.0->mxnet-cu101mkl) (2020.4.5.1)\n",
            "Requirement already satisfied: idna<3,>=2.5 in /usr/local/lib/python3.6/dist-packages (from requests<3,>=2.20.0->mxnet-cu101mkl) (2.9)\n",
            "Installing collected packages: graphviz, mxnet-cu101mkl\n",
            "  Found existing installation: graphviz 0.10.1\n",
            "    Uninstalling graphviz-0.10.1:\n",
            "      Successfully uninstalled graphviz-0.10.1\n",
            "Successfully installed graphviz-0.8.4 mxnet-cu101mkl-1.6.0\n",
            "Collecting gluoncv\n",
            "\u001b[?25l  Downloading https://files.pythonhosted.org/packages/fa/81/37a00609cb53da3671adb106b9bc03fb1c029ad5a8db4bc668283e65703d/gluoncv-0.7.0-py2.py3-none-any.whl (752kB)\n",
            "\u001b[K     |████████████████████████████████| 757kB 3.4MB/s \n",
            "\u001b[?25hRequirement already satisfied: tqdm in /usr/local/lib/python3.6/dist-packages (from gluoncv) (4.41.1)\n",
            "Requirement already satisfied: requests in /usr/local/lib/python3.6/dist-packages (from gluoncv) (2.23.0)\n",
            "Requirement already satisfied: matplotlib in /usr/local/lib/python3.6/dist-packages (from gluoncv) (3.2.1)\n",
            "Collecting portalocker\n",
            "  Downloading https://files.pythonhosted.org/packages/53/84/7b3146ec6378d28abc73ab484f09f47dfa008ad6f03f33d90a369f880e25/portalocker-1.7.0-py2.py3-none-any.whl\n",
            "Requirement already satisfied: scipy in /usr/local/lib/python3.6/dist-packages (from gluoncv) (1.4.1)\n",
            "Requirement already satisfied: numpy in /usr/local/lib/python3.6/dist-packages (from gluoncv) (1.18.4)\n",
            "Requirement already satisfied: Pillow in /usr/local/lib/python3.6/dist-packages (from gluoncv) (7.0.0)\n",
            "Requirement already satisfied: certifi>=2017.4.17 in /usr/local/lib/python3.6/dist-packages (from requests->gluoncv) (2020.4.5.1)\n",
            "Requirement already satisfied: idna<3,>=2.5 in /usr/local/lib/python3.6/dist-packages (from requests->gluoncv) (2.9)\n",
            "Requirement already satisfied: urllib3!=1.25.0,!=1.25.1,<1.26,>=1.21.1 in /usr/local/lib/python3.6/dist-packages (from requests->gluoncv) (1.24.3)\n",
            "Requirement already satisfied: chardet<4,>=3.0.2 in /usr/local/lib/python3.6/dist-packages (from requests->gluoncv) (3.0.4)\n",
            "Requirement already satisfied: python-dateutil>=2.1 in /usr/local/lib/python3.6/dist-packages (from matplotlib->gluoncv) (2.8.1)\n",
            "Requirement already satisfied: cycler>=0.10 in /usr/local/lib/python3.6/dist-packages (from matplotlib->gluoncv) (0.10.0)\n",
            "Requirement already satisfied: pyparsing!=2.0.4,!=2.1.2,!=2.1.6,>=2.0.1 in /usr/local/lib/python3.6/dist-packages (from matplotlib->gluoncv) (2.4.7)\n",
            "Requirement already satisfied: kiwisolver>=1.0.1 in /usr/local/lib/python3.6/dist-packages (from matplotlib->gluoncv) (1.2.0)\n",
            "Requirement already satisfied: six>=1.5 in /usr/local/lib/python3.6/dist-packages (from python-dateutil>=2.1->matplotlib->gluoncv) (1.12.0)\n",
            "Installing collected packages: portalocker, gluoncv\n",
            "Successfully installed gluoncv-0.7.0 portalocker-1.7.0\n"
          ],
          "name": "stdout"
        }
      ]
    },
    {
      "cell_type": "code",
      "metadata": {
        "id": "pjZ6ahlzApci",
        "colab_type": "code",
        "colab": {}
      },
      "source": [
        "import mxnet as mx\n",
        "from mxnet import nd, autograd"
      ],
      "execution_count": 0,
      "outputs": []
    },
    {
      "cell_type": "markdown",
      "metadata": {
        "id": "Q6B_fG1GA2lu",
        "colab_type": "text"
      },
      "source": [
        "Diffrentiate f(x)=2x^2 wrt x :"
      ]
    },
    {
      "cell_type": "code",
      "metadata": {
        "id": "V4w1jtdGAxIM",
        "colab_type": "code",
        "colab": {}
      },
      "source": [
        "x = nd.array([[1,2],[3,4]])"
      ],
      "execution_count": 0,
      "outputs": []
    },
    {
      "cell_type": "markdown",
      "metadata": {
        "id": "NZLVM3AtBWFb",
        "colab_type": "text"
      },
      "source": [
        "For computing gradient descent of the a function you need to store it a place, hence we need to attach_grad() to it. In order to signal that we are going to compute gradient using that ndarray."
      ]
    },
    {
      "cell_type": "code",
      "metadata": {
        "id": "XB1YVQ6BBCy5",
        "colab_type": "code",
        "colab": {}
      },
      "source": [
        "x.attach_grad()"
      ],
      "execution_count": 0,
      "outputs": []
    },
    {
      "cell_type": "markdown",
      "metadata": {
        "id": "AzRxTX5KCERW",
        "colab_type": "text"
      },
      "source": [
        "in the above example we are calling attach grad on x because we want to compute gradient descent of y=f(x) wrt to x."
      ]
    },
    {
      "cell_type": "code",
      "metadata": {
        "id": "Vcwh-WpcCAZN",
        "colab_type": "code",
        "colab": {}
      },
      "source": [
        "def f(x):\n",
        "  return 2*x**2"
      ],
      "execution_count": 0,
      "outputs": []
    },
    {
      "cell_type": "markdown",
      "metadata": {
        "id": "aHNJlJZbCjU9",
        "colab_type": "text"
      },
      "source": [
        "In order to compute gradient descent we need to store the function evaluations, hence put the evaluation within the autograd record scope."
      ]
    },
    {
      "cell_type": "code",
      "metadata": {
        "id": "pz4uKCYgCaJI",
        "colab_type": "code",
        "colab": {}
      },
      "source": [
        "with autograd.record():\n",
        "    y=f(x)"
      ],
      "execution_count": 0,
      "outputs": []
    },
    {
      "cell_type": "code",
      "metadata": {
        "id": "aZKUKDmqC1fJ",
        "colab_type": "code",
        "colab": {
          "base_uri": "https://localhost:8080/",
          "height": 141
        },
        "outputId": "c098032c-0c2e-411b-d574-ed2033176004"
      },
      "source": [
        "x,y"
      ],
      "execution_count": 16,
      "outputs": [
        {
          "output_type": "execute_result",
          "data": {
            "text/plain": [
              "(\n",
              " [[1. 2.]\n",
              "  [3. 4.]]\n",
              " <NDArray 2x2 @cpu(0)>, \n",
              " [[ 2.  8.]\n",
              "  [18. 32.]]\n",
              " <NDArray 2x2 @cpu(0)>)"
            ]
          },
          "metadata": {
            "tags": []
          },
          "execution_count": 16
        }
      ]
    },
    {
      "cell_type": "markdown",
      "metadata": {
        "id": "iVnJ1biVC-EG",
        "colab_type": "text"
      },
      "source": [
        "To compute the gradient after the function evaluations, you need call backward funciton on it. This is invoke backpropagation on y and compute gradient wrt all upstream computational dependencies."
      ]
    },
    {
      "cell_type": "code",
      "metadata": {
        "id": "0On6NOS0C2up",
        "colab_type": "code",
        "colab": {}
      },
      "source": [
        "y.backward()"
      ],
      "execution_count": 0,
      "outputs": []
    },
    {
      "cell_type": "code",
      "metadata": {
        "id": "OgagwXwNDPnL",
        "colab_type": "code",
        "colab": {
          "base_uri": "https://localhost:8080/",
          "height": 141
        },
        "outputId": "f23ed132-49a7-4c16-8e23-3a3708f1de11"
      },
      "source": [
        "x,x.grad"
      ],
      "execution_count": 18,
      "outputs": [
        {
          "output_type": "execute_result",
          "data": {
            "text/plain": [
              "(\n",
              " [[1. 2.]\n",
              "  [3. 4.]]\n",
              " <NDArray 2x2 @cpu(0)>, \n",
              " [[ 4.  8.]\n",
              "  [12. 16.]]\n",
              " <NDArray 2x2 @cpu(0)>)"
            ]
          },
          "metadata": {
            "tags": []
          },
          "execution_count": 18
        }
      ]
    },
    {
      "cell_type": "markdown",
      "metadata": {
        "id": "WlYUFtu6EGjK",
        "colab_type": "text"
      },
      "source": [
        "Applying Automatic Diffrentiation on Dynamic functions:"
      ]
    },
    {
      "cell_type": "code",
      "metadata": {
        "id": "H1j4DLLaD92N",
        "colab_type": "code",
        "colab": {}
      },
      "source": [
        "def f(x):\n",
        "  x=x*2\n",
        "  while x.norm().asscalar()<1000:\n",
        "    x=x*2\n",
        "  if x.sum().asscalar()>=0:\n",
        "      y=x[0]\n",
        "  else:\n",
        "      y=x[1]\n",
        "  return y\n",
        "    "
      ],
      "execution_count": 0,
      "outputs": []
    },
    {
      "cell_type": "code",
      "metadata": {
        "id": "OOntRRuGEyVo",
        "colab_type": "code",
        "colab": {
          "base_uri": "https://localhost:8080/",
          "height": 70
        },
        "outputId": "91dcf982-c5d2-456e-d5ab-7f932e4e2d85"
      },
      "source": [
        "x = nd.random.uniform(-1,1,shape=2)\n",
        "x"
      ],
      "execution_count": 20,
      "outputs": [
        {
          "output_type": "execute_result",
          "data": {
            "text/plain": [
              "\n",
              "[0.09762704 0.18568921]\n",
              "<NDArray 2 @cpu(0)>"
            ]
          },
          "metadata": {
            "tags": []
          },
          "execution_count": 20
        }
      ]
    },
    {
      "cell_type": "code",
      "metadata": {
        "id": "tKkSTQdAE77c",
        "colab_type": "code",
        "colab": {}
      },
      "source": [
        "x.attach_grad()\n",
        "with autograd.record():\n",
        "  y = f(x)\n",
        "y.backward()"
      ],
      "execution_count": 0,
      "outputs": []
    },
    {
      "cell_type": "code",
      "metadata": {
        "id": "HKIkELV4FK6N",
        "colab_type": "code",
        "colab": {
          "base_uri": "https://localhost:8080/",
          "height": 105
        },
        "outputId": "1ec66868-b362-44e5-af6e-8439cde81646"
      },
      "source": [
        "x,x.grad"
      ],
      "execution_count": 22,
      "outputs": [
        {
          "output_type": "execute_result",
          "data": {
            "text/plain": [
              "(\n",
              " [0.09762704 0.18568921]\n",
              " <NDArray 2 @cpu(0)>, \n",
              " [8192.    0.]\n",
              " <NDArray 2 @cpu(0)>)"
            ]
          },
          "metadata": {
            "tags": []
          },
          "execution_count": 22
        }
      ]
    },
    {
      "cell_type": "markdown",
      "metadata": {
        "id": "YmdI4Uw-FlBH",
        "colab_type": "text"
      },
      "source": [
        "Assignment:"
      ]
    },
    {
      "cell_type": "code",
      "metadata": {
        "id": "G3N1AIB4FMnm",
        "colab_type": "code",
        "colab": {}
      },
      "source": [
        "x=nd.array([[1,0],[0,1]])\n",
        "y=nd.array([[1,1],[1,1]])\n",
        "x.attach_grad()\n",
        "y.attach_grad()\n",
        "f = lambda x,y : x**2 + y**2\n",
        "with autograd.record():\n",
        "  z = f(x,y)\n",
        "z.backward()"
      ],
      "execution_count": 0,
      "outputs": []
    },
    {
      "cell_type": "code",
      "metadata": {
        "id": "u9sX_UtmF-X5",
        "colab_type": "code",
        "colab": {
          "base_uri": "https://localhost:8080/",
          "height": 141
        },
        "outputId": "eec13936-f899-4847-c1fc-307ea7d351f7"
      },
      "source": [
        "x.grad,y.grad"
      ],
      "execution_count": 24,
      "outputs": [
        {
          "output_type": "execute_result",
          "data": {
            "text/plain": [
              "(\n",
              " [[2. 0.]\n",
              "  [0. 2.]]\n",
              " <NDArray 2x2 @cpu(0)>, \n",
              " [[2. 2.]\n",
              "  [2. 2.]]\n",
              " <NDArray 2x2 @cpu(0)>)"
            ]
          },
          "metadata": {
            "tags": []
          },
          "execution_count": 24
        }
      ]
    },
    {
      "cell_type": "code",
      "metadata": {
        "id": "J15zZTOMGJAO",
        "colab_type": "code",
        "colab": {}
      },
      "source": [
        ""
      ],
      "execution_count": 0,
      "outputs": []
    }
  ]
}