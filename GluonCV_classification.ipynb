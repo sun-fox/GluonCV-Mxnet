{
  "nbformat": 4,
  "nbformat_minor": 0,
  "metadata": {
    "colab": {
      "name": "GluonCV_classification.ipynb",
      "provenance": [],
      "authorship_tag": "ABX9TyPP0fD6mspOUnrzC18iYbUr",
      "include_colab_link": true
    },
    "kernelspec": {
      "name": "python3",
      "display_name": "Python 3"
    },
    "accelerator": "GPU"
  },
  "cells": [
    {
      "cell_type": "markdown",
      "metadata": {
        "id": "view-in-github",
        "colab_type": "text"
      },
      "source": [
        "<a href=\"https://colab.research.google.com/github/sun-fox/GluonCV-Mxnet/blob/master/GluonCV_classification.ipynb\" target=\"_parent\"><img src=\"https://colab.research.google.com/assets/colab-badge.svg\" alt=\"Open In Colab\"/></a>"
      ]
    },
    {
      "cell_type": "code",
      "metadata": {
        "id": "m1KrD-HlvSpp",
        "colab_type": "code",
        "colab": {
          "base_uri": "https://localhost:8080/",
          "height": 87
        },
        "outputId": "bb09b0bf-ec66-4289-fe64-c9121eaa7085"
      },
      "source": [
        "# Check cuda version\n",
        "!nvcc --version"
      ],
      "execution_count": 2,
      "outputs": [
        {
          "output_type": "stream",
          "text": [
            "nvcc: NVIDIA (R) Cuda compiler driver\n",
            "Copyright (c) 2005-2019 NVIDIA Corporation\n",
            "Built on Sun_Jul_28_19:07:16_PDT_2019\n",
            "Cuda compilation tools, release 10.1, V10.1.243\n"
          ],
          "name": "stdout"
        }
      ]
    },
    {
      "cell_type": "code",
      "metadata": {
        "id": "l3cKfSdQvmxX",
        "colab_type": "code",
        "colab": {
          "base_uri": "https://localhost:8080/",
          "height": 532
        },
        "outputId": "8d0b8bd6-5651-4036-9852-ff903bf2828d"
      },
      "source": [
        "!pip install mxnet-cu101mkl\n",
        "!pip install gluoncv"
      ],
      "execution_count": 4,
      "outputs": [
        {
          "output_type": "stream",
          "text": [
            "Collecting mxnet-cu101mkl\n",
            "\u001b[?25l  Downloading https://files.pythonhosted.org/packages/3d/4b/e51dc49ca5fe6564028e7c91b10a3f79c00d710dd691b408c77597df5883/mxnet_cu101mkl-1.6.0-py2.py3-none-manylinux1_x86_64.whl (711.0MB)\n",
            "\u001b[K     |████████████████████████████████| 711.0MB 26kB/s \n",
            "\u001b[?25hRequirement already satisfied: numpy<2.0.0,>1.16.0 in /usr/local/lib/python3.6/dist-packages (from mxnet-cu101mkl) (1.18.4)\n",
            "Requirement already satisfied: requests<3,>=2.20.0 in /usr/local/lib/python3.6/dist-packages (from mxnet-cu101mkl) (2.23.0)\n",
            "Requirement already satisfied: graphviz<0.9.0,>=0.8.1 in /usr/local/lib/python3.6/dist-packages (from mxnet-cu101mkl) (0.8.4)\n",
            "Requirement already satisfied: urllib3!=1.25.0,!=1.25.1,<1.26,>=1.21.1 in /usr/local/lib/python3.6/dist-packages (from requests<3,>=2.20.0->mxnet-cu101mkl) (1.24.3)\n",
            "Requirement already satisfied: idna<3,>=2.5 in /usr/local/lib/python3.6/dist-packages (from requests<3,>=2.20.0->mxnet-cu101mkl) (2.9)\n",
            "Requirement already satisfied: chardet<4,>=3.0.2 in /usr/local/lib/python3.6/dist-packages (from requests<3,>=2.20.0->mxnet-cu101mkl) (3.0.4)\n",
            "Requirement already satisfied: certifi>=2017.4.17 in /usr/local/lib/python3.6/dist-packages (from requests<3,>=2.20.0->mxnet-cu101mkl) (2020.4.5.1)\n",
            "Installing collected packages: mxnet-cu101mkl\n",
            "Successfully installed mxnet-cu101mkl-1.6.0\n",
            "Requirement already satisfied: gluoncv in /usr/local/lib/python3.6/dist-packages (0.7.0)\n",
            "Requirement already satisfied: portalocker in /usr/local/lib/python3.6/dist-packages (from gluoncv) (1.7.0)\n",
            "Requirement already satisfied: matplotlib in /usr/local/lib/python3.6/dist-packages (from gluoncv) (3.2.1)\n",
            "Requirement already satisfied: scipy in /usr/local/lib/python3.6/dist-packages (from gluoncv) (1.4.1)\n",
            "Requirement already satisfied: requests in /usr/local/lib/python3.6/dist-packages (from gluoncv) (2.23.0)\n",
            "Requirement already satisfied: tqdm in /usr/local/lib/python3.6/dist-packages (from gluoncv) (4.41.1)\n",
            "Requirement already satisfied: Pillow in /usr/local/lib/python3.6/dist-packages (from gluoncv) (7.0.0)\n",
            "Requirement already satisfied: numpy in /usr/local/lib/python3.6/dist-packages (from gluoncv) (1.18.4)\n",
            "Requirement already satisfied: cycler>=0.10 in /usr/local/lib/python3.6/dist-packages (from matplotlib->gluoncv) (0.10.0)\n",
            "Requirement already satisfied: pyparsing!=2.0.4,!=2.1.2,!=2.1.6,>=2.0.1 in /usr/local/lib/python3.6/dist-packages (from matplotlib->gluoncv) (2.4.7)\n",
            "Requirement already satisfied: kiwisolver>=1.0.1 in /usr/local/lib/python3.6/dist-packages (from matplotlib->gluoncv) (1.2.0)\n",
            "Requirement already satisfied: python-dateutil>=2.1 in /usr/local/lib/python3.6/dist-packages (from matplotlib->gluoncv) (2.8.1)\n",
            "Requirement already satisfied: urllib3!=1.25.0,!=1.25.1,<1.26,>=1.21.1 in /usr/local/lib/python3.6/dist-packages (from requests->gluoncv) (1.24.3)\n",
            "Requirement already satisfied: chardet<4,>=3.0.2 in /usr/local/lib/python3.6/dist-packages (from requests->gluoncv) (3.0.4)\n",
            "Requirement already satisfied: idna<3,>=2.5 in /usr/local/lib/python3.6/dist-packages (from requests->gluoncv) (2.9)\n",
            "Requirement already satisfied: certifi>=2017.4.17 in /usr/local/lib/python3.6/dist-packages (from requests->gluoncv) (2020.4.5.1)\n",
            "Requirement already satisfied: six in /usr/local/lib/python3.6/dist-packages (from cycler>=0.10->matplotlib->gluoncv) (1.12.0)\n"
          ],
          "name": "stdout"
        }
      ]
    },
    {
      "cell_type": "code",
      "metadata": {
        "id": "lQZZfomxwdfI",
        "colab_type": "code",
        "colab": {}
      },
      "source": [
        "import mxnet as mx"
      ],
      "execution_count": 0,
      "outputs": []
    },
    {
      "cell_type": "code",
      "metadata": {
        "id": "nh0E8ATC2E9N",
        "colab_type": "code",
        "colab": {}
      },
      "source": [
        "import gluoncv as gcv\n",
        "import matplotlib.pyplot as plt"
      ],
      "execution_count": 0,
      "outputs": []
    },
    {
      "cell_type": "code",
      "metadata": {
        "id": "8vz6q6If2Kai",
        "colab_type": "code",
        "colab": {
          "base_uri": "https://localhost:8080/",
          "height": 70
        },
        "outputId": "1386f2dc-0be8-4783-c04a-f424eff7093a"
      },
      "source": [
        "image_url = \"https://raw.githubusercontent.com/dmlc/web-data/master/gluoncv/classification/mt_baker.jpg\"\n",
        "image_filepath = 'mt_baker.jpg'\n",
        "gcv.utils.download(url=image_url, path=image_filepath)"
      ],
      "execution_count": 7,
      "outputs": [
        {
          "output_type": "stream",
          "text": [
            "Downloading mt_baker.jpg from https://raw.githubusercontent.com/dmlc/web-data/master/gluoncv/classification/mt_baker.jpg...\n"
          ],
          "name": "stdout"
        },
        {
          "output_type": "stream",
          "text": [
            "305KB [00:00, 20054.91KB/s]            \n"
          ],
          "name": "stderr"
        },
        {
          "output_type": "execute_result",
          "data": {
            "text/plain": [
              "'mt_baker.jpg'"
            ]
          },
          "metadata": {
            "tags": []
          },
          "execution_count": 7
        }
      ]
    },
    {
      "cell_type": "code",
      "metadata": {
        "id": "JrS1Jngl6GjY",
        "colab_type": "code",
        "colab": {
          "base_uri": "https://localhost:8080/",
          "height": 70
        },
        "outputId": "aae2cde5-3b62-463f-d9b0-3e6343046849"
      },
      "source": [
        "script_url = \"https://gluon-cv.mxnet.io/_downloads/5966af3c5a6133b4f80f4892e25fb82e/demo_imagenet.py\"\n",
        "script_filepath = \"demo_imagenet.py\"\n",
        "gcv.utils.download(url=script_url,path=script_filepath)"
      ],
      "execution_count": 10,
      "outputs": [
        {
          "output_type": "stream",
          "text": [
            "Downloading demo_imagenet.py from https://gluon-cv.mxnet.io/_downloads/5966af3c5a6133b4f80f4892e25fb82e/demo_imagenet.py...\n"
          ],
          "name": "stdout"
        },
        {
          "output_type": "stream",
          "text": [
            "2KB [00:00, 715.63KB/s]              \n"
          ],
          "name": "stderr"
        },
        {
          "output_type": "execute_result",
          "data": {
            "text/plain": [
              "'demo_imagenet.py'"
            ]
          },
          "metadata": {
            "tags": []
          },
          "execution_count": 10
        }
      ]
    },
    {
      "cell_type": "code",
      "metadata": {
        "id": "PXRAT_zv6JY9",
        "colab_type": "code",
        "colab": {
          "base_uri": "https://localhost:8080/",
          "height": 158
        },
        "outputId": "92ed25b8-0c27-4f51-9dda-fb3cdf0b2c92"
      },
      "source": [
        "!python demo_imagenet.py --model ResNet50_v1d --input-pic mt_baker.jpg"
      ],
      "execution_count": 12,
      "outputs": [
        {
          "output_type": "stream",
          "text": [
            "Downloading /root/.mxnet/models/resnet50_v1d-117a384e.zip from https://apache-mxnet.s3-accelerate.dualstack.amazonaws.com/gluon/models/resnet50_v1d-117a384e.zip...\n",
            "55464KB [00:03, 18309.11KB/s]               \n",
            "The input picture is classified to be\n",
            "\t[volcano], with probability 0.832.\n",
            "\t[alp], with probability 0.051.\n",
            "\t[valley], with probability 0.006.\n",
            "\t[mountain tent], with probability 0.005.\n",
            "\t[lakeside], with probability 0.005.\n"
          ],
          "name": "stdout"
        }
      ]
    },
    {
      "cell_type": "code",
      "metadata": {
        "id": "Szz6jYai-bge",
        "colab_type": "code",
        "colab": {}
      },
      "source": [
        "image = mx.image.imread('mt_baker.jpg')"
      ],
      "execution_count": 0,
      "outputs": []
    },
    {
      "cell_type": "code",
      "metadata": {
        "id": "bNoZRyxH_QLl",
        "colab_type": "code",
        "colab": {
          "base_uri": "https://localhost:8080/",
          "height": 52
        },
        "outputId": "e9a00876-35bc-4002-93d5-f69f584316dc"
      },
      "source": [
        "print('type',type(image))\n",
        "print('type',image.shape)"
      ],
      "execution_count": 16,
      "outputs": [
        {
          "output_type": "stream",
          "text": [
            "type <class 'mxnet.ndarray.ndarray.NDArray'>\n",
            "type (1458, 3000, 3)\n"
          ],
          "name": "stdout"
        }
      ]
    },
    {
      "cell_type": "code",
      "metadata": {
        "id": "4aaJ2GKV_YPd",
        "colab_type": "code",
        "colab": {
          "base_uri": "https://localhost:8080/",
          "height": 34
        },
        "outputId": "55cc1419-c122-4c35-a47c-2701530e0e68"
      },
      "source": [
        "print('data type',image.dtype)"
      ],
      "execution_count": 17,
      "outputs": [
        {
          "output_type": "stream",
          "text": [
            "data type <class 'numpy.uint8'>\n"
          ],
          "name": "stdout"
        }
      ]
    },
    {
      "cell_type": "code",
      "metadata": {
        "id": "9bAu1RIa_ltc",
        "colab_type": "code",
        "colab": {
          "base_uri": "https://localhost:8080/",
          "height": 52
        },
        "outputId": "b69e9639-e89e-4123-ab27-ebd84446d1da"
      },
      "source": [
        "print('minimum value:', image.min().asscalar())\n",
        "print('maximum value:', image.max().asscalar())"
      ],
      "execution_count": 18,
      "outputs": [
        {
          "output_type": "stream",
          "text": [
            "minimum value: 0\n",
            "maximum value: 255\n"
          ],
          "name": "stdout"
        }
      ]
    },
    {
      "cell_type": "code",
      "metadata": {
        "id": "q4cO2aJf_8ia",
        "colab_type": "code",
        "colab": {
          "base_uri": "https://localhost:8080/",
          "height": 232
        },
        "outputId": "f7f2db47-d202-446e-b03d-f1f739864352"
      },
      "source": [
        "plt.imshow(image.asnumpy())"
      ],
      "execution_count": 20,
      "outputs": [
        {
          "output_type": "execute_result",
          "data": {
            "text/plain": [
              "<matplotlib.image.AxesImage at 0x7f2ffa538f28>"
            ]
          },
          "metadata": {
            "tags": []
          },
          "execution_count": 20
        },
        {
          "output_type": "display_data",
          "data": {
            "image/png": "[encoded data removed]",
            "text/plain": [
              "<Figure size 432x288 with 1 Axes>"
            ]
          },
          "metadata": {
            "tags": [],
            "needs_background": "light"
          }
        }
      ]
    },
    {
      "cell_type": "code",
      "metadata": {
        "id": "RxhbQLDyAGh-",
        "colab_type": "code",
        "colab": {}
      },
      "source": [
        "image = gcv.data.transforms.presets.imagenet.transform_eval(image)"
      ],
      "execution_count": 0,
      "outputs": []
    },
    {
      "cell_type": "code",
      "metadata": {
        "id": "2RqzcR_mAtcK",
        "colab_type": "code",
        "colab": {
          "base_uri": "https://localhost:8080/",
          "height": 87
        },
        "outputId": "161db579-ccc7-4c36-e7ed-eef47df5c866"
      },
      "source": [
        "print('type',type(image))\n",
        "print('type',image.shape)\n",
        "print('minimum value:', image.min().asscalar())\n",
        "print('maximum value:', image.max().asscalar())"
      ],
      "execution_count": 22,
      "outputs": [
        {
          "output_type": "stream",
          "text": [
            "type <class 'mxnet.ndarray.ndarray.NDArray'>\n",
            "type (1, 3, 224, 224)\n",
            "minimum value: -2.117904\n",
            "maximum value: 2.2489083\n"
          ],
          "name": "stdout"
        }
      ]
    },
    {
      "cell_type": "code",
      "metadata": {
        "id": "vHTT_-p1BvXM",
        "colab_type": "code",
        "colab": {}
      },
      "source": [
        "network = gcv.model_zoo.get_model('ResNet50_v1d',pretrained=True)"
      ],
      "execution_count": 0,
      "outputs": []
    },
    {
      "cell_type": "code",
      "metadata": {
        "id": "LtggZQ3jF8mL",
        "colab_type": "code",
        "colab": {
          "base_uri": "https://localhost:8080/",
          "height": 34
        },
        "outputId": "5495431f-0e1f-4b37-cbdb-672185302857"
      },
      "source": [
        "prediction = network(image)\n",
        "print(prediction.shape)"
      ],
      "execution_count": 26,
      "outputs": [
        {
          "output_type": "stream",
          "text": [
            "(1, 1000)\n"
          ],
          "name": "stdout"
        }
      ]
    },
    {
      "cell_type": "code",
      "metadata": {
        "id": "IHq4sb0nGHsX",
        "colab_type": "code",
        "colab": {
          "base_uri": "https://localhost:8080/",
          "height": 34
        },
        "outputId": "248135f3-f970-44ea-dba5-20848340c610"
      },
      "source": [
        "prediction = prediction[0]\n",
        "print(prediction.shape)"
      ],
      "execution_count": 27,
      "outputs": [
        {
          "output_type": "stream",
          "text": [
            "(1000,)\n"
          ],
          "name": "stdout"
        }
      ]
    },
    {
      "cell_type": "code",
      "metadata": {
        "id": "KKREhYdBGzvN",
        "colab_type": "code",
        "colab": {
          "base_uri": "https://localhost:8080/",
          "height": 230
        },
        "outputId": "9250ff24-e9e0-488f-a573-c810109be6b1"
      },
      "source": [
        "print('Skipping 950 values...')\n",
        "print(prediction[950:])"
      ],
      "execution_count": 28,
      "outputs": [
        {
          "output_type": "stream",
          "text": [
            "Skipping 950 values...\n",
            "\n",
            "[ 1.6271267   0.36589456  0.85588187  0.33442783  0.5412198  -0.3009278\n",
            "  0.3592903   0.6543574   1.4262843   0.25889024  0.9882151   0.8814945\n",
            "  0.16783854  0.08977987  0.2744235   0.24109213  0.56991094  0.2599588\n",
            "  0.68577445  0.31329736  6.6668687   1.3856452   1.9567913  -0.12317836\n",
            "  1.7558143   4.34455     2.188921    1.2312093   2.3473246   4.5749245\n",
            "  9.468041   -0.30541041 -0.6476071  -0.52499914  0.9335223   0.7344688\n",
            "  0.6339683   0.08523059  0.49712777  0.47199667  0.68814534  0.5201406\n",
            "  0.48171836  1.0798149   1.253247    0.8967042  -0.43378907  0.68775344\n",
            "  0.70875716  0.7740849 ]\n",
            "<NDArray 50 @cpu(0)>\n"
          ],
          "name": "stdout"
        }
      ]
    },
    {
      "cell_type": "code",
      "metadata": {
        "id": "30xH-Ve3HNMV",
        "colab_type": "code",
        "colab": {}
      },
      "source": [
        "probability = mx.nd.softmax(prediction)"
      ],
      "execution_count": 0,
      "outputs": []
    },
    {
      "cell_type": "code",
      "metadata": {
        "id": "MK3iqqPfHVBi",
        "colab_type": "code",
        "colab": {
          "base_uri": "https://localhost:8080/",
          "height": 141
        },
        "outputId": "37a2a788-3739-475e-ce85-c9fc156c5edd"
      },
      "source": [
        "rounded_probability = mx.nd.round(probability*100)/100\n",
        "print('Skipping 950 values...')\n",
        "print(rounded_probability[950:])"
      ],
      "execution_count": 31,
      "outputs": [
        {
          "output_type": "stream",
          "text": [
            "Skipping 950 values...\n",
            "\n",
            "[0.   0.   0.   0.   0.   0.   0.   0.   0.   0.   0.   0.   0.   0.\n",
            " 0.   0.   0.   0.   0.   0.   0.05 0.   0.   0.   0.   0.   0.   0.\n",
            " 0.   0.01 0.83 0.   0.   0.   0.   0.   0.   0.   0.   0.   0.   0.\n",
            " 0.   0.   0.   0.   0.   0.   0.   0.  ]\n",
            "<NDArray 50 @cpu(0)>\n"
          ],
          "name": "stdout"
        }
      ]
    },
    {
      "cell_type": "code",
      "metadata": {
        "id": "-xewJFsFHuPn",
        "colab_type": "code",
        "colab": {
          "base_uri": "https://localhost:8080/",
          "height": 70
        },
        "outputId": "7d8157ca-3f82-4687-fee8-e6fc5cb95f02"
      },
      "source": [
        "mx.nd.softmax(mx.nd.array((-0.5,0.5)))"
      ],
      "execution_count": 32,
      "outputs": [
        {
          "output_type": "execute_result",
          "data": {
            "text/plain": [
              "\n",
              "[0.26894143 0.73105854]\n",
              "<NDArray 2 @cpu(0)>"
            ]
          },
          "metadata": {
            "tags": []
          },
          "execution_count": 32
        }
      ]
    },
    {
      "cell_type": "code",
      "metadata": {
        "id": "EBuGsK4II5Hf",
        "colab_type": "code",
        "colab": {
          "base_uri": "https://localhost:8080/",
          "height": 70
        },
        "outputId": "baa1b063-e6da-403d-b2eb-9be050f84b6a"
      },
      "source": [
        "mx.nd.softmax(mx.nd.array((-0.5,1.0)))"
      ],
      "execution_count": 34,
      "outputs": [
        {
          "output_type": "execute_result",
          "data": {
            "text/plain": [
              "\n",
              "[0.18242551 0.81757456]\n",
              "<NDArray 2 @cpu(0)>"
            ]
          },
          "metadata": {
            "tags": []
          },
          "execution_count": 34
        }
      ]
    },
    {
      "cell_type": "code",
      "metadata": {
        "id": "KpkKmMklI97P",
        "colab_type": "code",
        "colab": {
          "base_uri": "https://localhost:8080/",
          "height": 70
        },
        "outputId": "6ecc36d1-9ff2-435a-8d21-0b5e4a468bdb"
      },
      "source": [
        "mx.nd.softmax(mx.nd.array((-1.0,1.0)))"
      ],
      "execution_count": 35,
      "outputs": [
        {
          "output_type": "execute_result",
          "data": {
            "text/plain": [
              "\n",
              "[0.11920292 0.8807971 ]\n",
              "<NDArray 2 @cpu(0)>"
            ]
          },
          "metadata": {
            "tags": []
          },
          "execution_count": 35
        }
      ]
    },
    {
      "cell_type": "code",
      "metadata": {
        "id": "frjCDa1XJBJm",
        "colab_type": "code",
        "colab": {
          "base_uri": "https://localhost:8080/",
          "height": 70
        },
        "outputId": "2011abb6-a987-4a58-dffd-d93973cefd9c"
      },
      "source": [
        "k=5 \n",
        "topk_indices = mx.nd.topk(probability, k=k)\n",
        "topk_indices"
      ],
      "execution_count": 37,
      "outputs": [
        {
          "output_type": "execute_result",
          "data": {
            "text/plain": [
              "\n",
              "[980. 970. 979. 672. 975.]\n",
              "<NDArray 5 @cpu(0)>"
            ]
          },
          "metadata": {
            "tags": []
          },
          "execution_count": 37
        }
      ]
    },
    {
      "cell_type": "code",
      "metadata": {
        "id": "DbvAHYaDJFHp",
        "colab_type": "code",
        "colab": {
          "base_uri": "https://localhost:8080/",
          "height": 34
        },
        "outputId": "3eb4ad26-f8b1-4de1-d469-6a351fd8f21e"
      },
      "source": [
        "network.classes[980]"
      ],
      "execution_count": 38,
      "outputs": [
        {
          "output_type": "execute_result",
          "data": {
            "text/plain": [
              "'volcano'"
            ]
          },
          "metadata": {
            "tags": []
          },
          "execution_count": 38
        }
      ]
    },
    {
      "cell_type": "code",
      "metadata": {
        "id": "wk5CK5bqKk1H",
        "colab_type": "code",
        "colab": {
          "base_uri": "https://localhost:8080/",
          "height": 105
        },
        "outputId": "30ca0b51-fd9a-4aa2-c265-419acba3b444"
      },
      "source": [
        "for i in range(k):\n",
        "  class_index = topk_indices[i].astype('int').asscalar()\n",
        "  class_label = network.classes[class_index]\n",
        "  class_probability = probability[class_index]\n",
        "  print('#{} {} ({:0.3}%)'.format(i+1, class_label, class_probability.asscalar()*100))"
      ],
      "execution_count": 42,
      "outputs": [
        {
          "output_type": "stream",
          "text": [
            "#1 volcano (83.2%)\n",
            "#2 alp (5.06%)\n",
            "#3 valley (0.624%)\n",
            "#4 mountain tent (0.537%)\n",
            "#5 lakeside (0.496%)\n"
          ],
          "name": "stdout"
        }
      ]
    },
    {
      "cell_type": "code",
      "metadata": {
        "id": "4gvmo9vsLRrs",
        "colab_type": "code",
        "colab": {}
      },
      "source": [
        ""
      ],
      "execution_count": 0,
      "outputs": []
    }
  ]
}