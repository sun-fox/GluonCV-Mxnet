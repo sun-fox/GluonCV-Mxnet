{
  "nbformat": 4,
  "nbformat_minor": 0,
  "metadata": {
    "colab": {
      "name": "Gluon_Blocks_Initialization.ipynb",
      "provenance": [],
      "authorship_tag": "ABX9TyPlCZdR+Lshyi5U5Jh1deY4",
      "include_colab_link": true
    },
    "kernelspec": {
      "name": "python3",
      "display_name": "Python 3"
    },
    "accelerator": "GPU"
  },
  "cells": [
    {
      "cell_type": "markdown",
      "metadata": {
        "id": "view-in-github",
        "colab_type": "text"
      },
      "source": [
        "<a href=\"https://colab.research.google.com/github/sun-fox/GluonCV-Mxnet/blob/master/Gluon_Blocks_Initialization.ipynb\" target=\"_parent\"><img src=\"https://colab.research.google.com/assets/colab-badge.svg\" alt=\"Open In Colab\"/></a>"
      ]
    },
    {
      "cell_type": "code",
      "metadata": {
        "id": "tAi5eCs8khkF",
        "colab_type": "code",
        "colab": {
          "base_uri": "https://localhost:8080/",
          "height": 692
        },
        "outputId": "a1c04653-fe4e-4369-c1d9-1a469652ee44"
      },
      "source": [
        "!pip install mxnet-cu101mkl\n",
        "!pip install gluoncv"
      ],
      "execution_count": 1,
      "outputs": [
        {
          "output_type": "stream",
          "text": [
            "Collecting mxnet-cu101mkl\n",
            "\u001b[?25l  Downloading https://files.pythonhosted.org/packages/3d/4b/e51dc49ca5fe6564028e7c91b10a3f79c00d710dd691b408c77597df5883/mxnet_cu101mkl-1.6.0-py2.py3-none-manylinux1_x86_64.whl (711.0MB)\n",
            "\u001b[K     |████████████████████████████████| 711.0MB 26kB/s \n",
            "\u001b[?25hCollecting graphviz<0.9.0,>=0.8.1\n",
            "  Downloading https://files.pythonhosted.org/packages/53/39/4ab213673844e0c004bed8a0781a0721a3f6bb23eb8854ee75c236428892/graphviz-0.8.4-py2.py3-none-any.whl\n",
            "Requirement already satisfied: numpy<2.0.0,>1.16.0 in /usr/local/lib/python3.6/dist-packages (from mxnet-cu101mkl) (1.18.4)\n",
            "Requirement already satisfied: requests<3,>=2.20.0 in /usr/local/lib/python3.6/dist-packages (from mxnet-cu101mkl) (2.23.0)\n",
            "Requirement already satisfied: urllib3!=1.25.0,!=1.25.1,<1.26,>=1.21.1 in /usr/local/lib/python3.6/dist-packages (from requests<3,>=2.20.0->mxnet-cu101mkl) (1.24.3)\n",
            "Requirement already satisfied: certifi>=2017.4.17 in /usr/local/lib/python3.6/dist-packages (from requests<3,>=2.20.0->mxnet-cu101mkl) (2020.4.5.1)\n",
            "Requirement already satisfied: idna<3,>=2.5 in /usr/local/lib/python3.6/dist-packages (from requests<3,>=2.20.0->mxnet-cu101mkl) (2.9)\n",
            "Requirement already satisfied: chardet<4,>=3.0.2 in /usr/local/lib/python3.6/dist-packages (from requests<3,>=2.20.0->mxnet-cu101mkl) (3.0.4)\n",
            "Installing collected packages: graphviz, mxnet-cu101mkl\n",
            "  Found existing installation: graphviz 0.10.1\n",
            "    Uninstalling graphviz-0.10.1:\n",
            "      Successfully uninstalled graphviz-0.10.1\n",
            "Successfully installed graphviz-0.8.4 mxnet-cu101mkl-1.6.0\n",
            "Collecting gluoncv\n",
            "\u001b[?25l  Downloading https://files.pythonhosted.org/packages/fa/81/37a00609cb53da3671adb106b9bc03fb1c029ad5a8db4bc668283e65703d/gluoncv-0.7.0-py2.py3-none-any.whl (752kB)\n",
            "\u001b[K     |████████████████████████████████| 757kB 9.1MB/s \n",
            "\u001b[?25hRequirement already satisfied: tqdm in /usr/local/lib/python3.6/dist-packages (from gluoncv) (4.41.1)\n",
            "Requirement already satisfied: matplotlib in /usr/local/lib/python3.6/dist-packages (from gluoncv) (3.2.1)\n",
            "Requirement already satisfied: Pillow in /usr/local/lib/python3.6/dist-packages (from gluoncv) (7.0.0)\n",
            "Requirement already satisfied: requests in /usr/local/lib/python3.6/dist-packages (from gluoncv) (2.23.0)\n",
            "Requirement already satisfied: scipy in /usr/local/lib/python3.6/dist-packages (from gluoncv) (1.4.1)\n",
            "Requirement already satisfied: numpy in /usr/local/lib/python3.6/dist-packages (from gluoncv) (1.18.4)\n",
            "Collecting portalocker\n",
            "  Downloading https://files.pythonhosted.org/packages/53/84/7b3146ec6378d28abc73ab484f09f47dfa008ad6f03f33d90a369f880e25/portalocker-1.7.0-py2.py3-none-any.whl\n",
            "Requirement already satisfied: pyparsing!=2.0.4,!=2.1.2,!=2.1.6,>=2.0.1 in /usr/local/lib/python3.6/dist-packages (from matplotlib->gluoncv) (2.4.7)\n",
            "Requirement already satisfied: python-dateutil>=2.1 in /usr/local/lib/python3.6/dist-packages (from matplotlib->gluoncv) (2.8.1)\n",
            "Requirement already satisfied: cycler>=0.10 in /usr/local/lib/python3.6/dist-packages (from matplotlib->gluoncv) (0.10.0)\n",
            "Requirement already satisfied: kiwisolver>=1.0.1 in /usr/local/lib/python3.6/dist-packages (from matplotlib->gluoncv) (1.2.0)\n",
            "Requirement already satisfied: chardet<4,>=3.0.2 in /usr/local/lib/python3.6/dist-packages (from requests->gluoncv) (3.0.4)\n",
            "Requirement already satisfied: certifi>=2017.4.17 in /usr/local/lib/python3.6/dist-packages (from requests->gluoncv) (2020.4.5.1)\n",
            "Requirement already satisfied: urllib3!=1.25.0,!=1.25.1,<1.26,>=1.21.1 in /usr/local/lib/python3.6/dist-packages (from requests->gluoncv) (1.24.3)\n",
            "Requirement already satisfied: idna<3,>=2.5 in /usr/local/lib/python3.6/dist-packages (from requests->gluoncv) (2.9)\n",
            "Requirement already satisfied: six>=1.5 in /usr/local/lib/python3.6/dist-packages (from python-dateutil>=2.1->matplotlib->gluoncv) (1.12.0)\n",
            "Installing collected packages: portalocker, gluoncv\n",
            "Successfully installed gluoncv-0.7.0 portalocker-1.7.0\n"
          ],
          "name": "stdout"
        }
      ]
    },
    {
      "cell_type": "code",
      "metadata": {
        "id": "-59dI1LmklxR",
        "colab_type": "code",
        "colab": {}
      },
      "source": [
        "import mxnet as mx\n",
        "from mxnet import init,nd\n",
        "from mxnet.gluon import nn"
      ],
      "execution_count": 0,
      "outputs": []
    },
    {
      "cell_type": "code",
      "metadata": {
        "id": "juNPbOVnkq1x",
        "colab_type": "code",
        "colab": {
          "base_uri": "https://localhost:8080/",
          "height": 34
        },
        "outputId": "233fffd9-89e8-44e3-8150-aa5e0afc247c"
      },
      "source": [
        "init.Uniform\n",
        "init.Normal\n",
        "init.Xavier\n",
        "init.Zero\n",
        "init.One\n",
        "init.Constant"
      ],
      "execution_count": 3,
      "outputs": [
        {
          "output_type": "execute_result",
          "data": {
            "text/plain": [
              "mxnet.initializer.Constant"
            ]
          },
          "metadata": {
            "tags": []
          },
          "execution_count": 3
        }
      ]
    },
    {
      "cell_type": "markdown",
      "metadata": {
        "id": "DE_P-eo8oVY2",
        "colab_type": "text"
      },
      "source": [
        "**Xavier Initialization**\n",
        "\n",
        "Designed to keep the scale of gradient roughly the same in all layers.\n",
        "The initializer fills the weight with random numbers in the range of [-c,c],\n",
        "where c = sqrt(mag/0.5*(n_in + n_out))\n"
      ]
    },
    {
      "cell_type": "code",
      "metadata": {
        "id": "F4eillRFoRax",
        "colab_type": "code",
        "colab": {
          "base_uri": "https://localhost:8080/",
          "height": 105
        },
        "outputId": "4b0f78ab-4bfd-4f25-8893-471d6c7aac3e"
      },
      "source": [
        "layer = nn.Conv2D(channels=1,in_channels=1, kernel_size=(3,3))\n",
        "layer.initialize(init.Xavier())\n",
        "layer.weight.data()"
      ],
      "execution_count": 4,
      "outputs": [
        {
          "output_type": "execute_result",
          "data": {
            "text/plain": [
              "\n",
              "[[[[ 0.05636501  0.10720772  0.24847925]\n",
              "   [ 0.39752382  0.11866093  0.41332   ]\n",
              "   [ 0.05182666  0.4009717  -0.08815584]]]]\n",
              "<NDArray 1x1x3x3 @cpu(0)>"
            ]
          },
          "metadata": {
            "tags": []
          },
          "execution_count": 4
        }
      ]
    },
    {
      "cell_type": "code",
      "metadata": {
        "id": "nCx5SfKnpH7i",
        "colab_type": "code",
        "colab": {
          "base_uri": "https://localhost:8080/",
          "height": 496
        },
        "outputId": "db42575e-f123-46bd-b61b-f6de0293863d"
      },
      "source": [
        "layer = nn.Conv2D(channels=512,in_channels=512, kernel_size=(3,3))\n",
        "layer.initialize(init.Xavier())\n",
        "layer.weight.data()[0]"
      ],
      "execution_count": 5,
      "outputs": [
        {
          "output_type": "execute_result",
          "data": {
            "text/plain": [
              "\n",
              "[[[ 0.00630558  0.00744513 -0.00590012]\n",
              "  [-0.00318499 -0.01033202  0.01999258]\n",
              "  [-0.0226214   0.02366119 -0.01160159]]\n",
              "\n",
              " [[-0.0059481  -0.00113977  0.01488703]\n",
              "  [ 0.01593029  0.00147454 -0.00102179]\n",
              "  [ 0.00347238 -0.0054713   0.02171864]]\n",
              "\n",
              " [[ 0.01715045 -0.02189048 -0.00829784]\n",
              "  [-0.02106922  0.00756137 -0.02448375]\n",
              "  [-0.00672377  0.01697394  0.0233291 ]]\n",
              "\n",
              " ...\n",
              "\n",
              " [[-0.01893761  0.01284147 -0.00975751]\n",
              "  [-0.02142992 -0.00148998 -0.00093406]\n",
              "  [ 0.00985651 -0.00277236  0.00710726]]\n",
              "\n",
              " [[ 0.00880146 -0.01043105 -0.00261599]\n",
              "  [-0.00773894  0.01042632 -0.01882804]\n",
              "  [ 0.00926955  0.00075613  0.01006069]]\n",
              "\n",
              " [[ 0.00549796  0.00605232 -0.0150173 ]\n",
              "  [-0.01781082  0.02513626  0.01330902]\n",
              "  [-0.01826004  0.01434206  0.0111638 ]]]\n",
              "<NDArray 512x3x3 @cpu(0)>"
            ]
          },
          "metadata": {
            "tags": []
          },
          "execution_count": 5
        }
      ]
    },
    {
      "cell_type": "markdown",
      "metadata": {
        "id": "HzNXbQ4pqtW8",
        "colab_type": "text"
      },
      "source": [
        "**Defered Initialization**"
      ]
    },
    {
      "cell_type": "code",
      "metadata": {
        "id": "1ZAy1mF1pvC7",
        "colab_type": "code",
        "colab": {
          "base_uri": "https://localhost:8080/",
          "height": 34
        },
        "outputId": "c817ddf4-0371-4f85-d57f-534cfdf1b832"
      },
      "source": [
        "layer = nn.Conv2D(channels=1, kernel_size=(3,3))\n",
        "layer.weight"
      ],
      "execution_count": 6,
      "outputs": [
        {
          "output_type": "execute_result",
          "data": {
            "text/plain": [
              "Parameter conv2_weight (shape=(1, 0, 3, 3), dtype=<class 'numpy.float32'>)"
            ]
          },
          "metadata": {
            "tags": []
          },
          "execution_count": 6
        }
      ]
    },
    {
      "cell_type": "code",
      "metadata": {
        "id": "mSDNcx7Yq9ZL",
        "colab_type": "code",
        "colab": {
          "base_uri": "https://localhost:8080/",
          "height": 34
        },
        "outputId": "183037a1-b964-4844-aad8-ae5b2e01641b"
      },
      "source": [
        "layer.initialize(init.Xavier())\n",
        "layer(mx.nd.ones((1,8,224,224)))\n",
        "layer.weight"
      ],
      "execution_count": 7,
      "outputs": [
        {
          "output_type": "execute_result",
          "data": {
            "text/plain": [
              "Parameter conv2_weight (shape=(1, 8, 3, 3), dtype=<class 'numpy.float32'>)"
            ]
          },
          "metadata": {
            "tags": []
          },
          "execution_count": 7
        }
      ]
    },
    {
      "cell_type": "markdown",
      "metadata": {
        "id": "e2Q4fSn1sU4C",
        "colab_type": "text"
      },
      "source": [
        "**Initialization Context**"
      ]
    },
    {
      "cell_type": "code",
      "metadata": {
        "id": "E0W1AgOdrq9y",
        "colab_type": "code",
        "colab": {}
      },
      "source": [
        "layer = nn.Conv2D(channels=1, kernel_size=(3,3))\n",
        "layer.initialize(init.Xavier(), ctx=mx.gpu())"
      ],
      "execution_count": 0,
      "outputs": []
    },
    {
      "cell_type": "code",
      "metadata": {
        "id": "OMARHD6xt5BZ",
        "colab_type": "code",
        "colab": {
          "base_uri": "https://localhost:8080/",
          "height": 301
        },
        "outputId": "cab1b89e-729e-444a-b50e-c22188a20db7"
      },
      "source": [
        "layer(nd.uniform(shape=(1,3,9,9), ctx=mx.gpu()))"
      ],
      "execution_count": 9,
      "outputs": [
        {
          "output_type": "execute_result",
          "data": {
            "text/plain": [
              "\n",
              "[[[[1.2898028  1.110988   1.137672   1.2746624  1.1320616  1.2411841\n",
              "    1.2996763 ]\n",
              "   [2.0227969  1.3626624  1.6164691  1.1885686  1.0964382  1.2469984\n",
              "    1.2867093 ]\n",
              "   [1.0631251  1.9179451  1.6159045  1.0920229  1.2020497  1.6726247\n",
              "    1.4360905 ]\n",
              "   [1.2220917  1.5597315  1.4766033  1.0448022  1.4664203  1.4242986\n",
              "    1.2903199 ]\n",
              "   [1.3970885  1.4029529  1.306343   1.7303979  1.3930414  1.5824035\n",
              "    1.509001  ]\n",
              "   [0.8560147  1.5070189  1.107607   1.003307   0.3736256  1.3860799\n",
              "    0.8027376 ]\n",
              "   [1.90825    1.4922979  1.6973102  0.58472186 1.6751751  2.2057414\n",
              "    1.1906272 ]]]]\n",
              "<NDArray 1x1x7x7 @gpu(0)>"
            ]
          },
          "metadata": {
            "tags": []
          },
          "execution_count": 9
        }
      ]
    },
    {
      "cell_type": "markdown",
      "metadata": {
        "id": "LXjj3fjbvotX",
        "colab_type": "text"
      },
      "source": [
        "**Set Data**"
      ]
    },
    {
      "cell_type": "code",
      "metadata": {
        "id": "gWhNkh-ouL49",
        "colab_type": "code",
        "colab": {
          "base_uri": "https://localhost:8080/",
          "height": 247
        },
        "outputId": "7fab4d8f-8818-452e-e993-155521cac3e6"
      },
      "source": [
        "layer.weight.set_data(nd.ones((1,3,3,3),ctx=mx.gpu()))\n",
        "layer.weight.data()"
      ],
      "execution_count": 10,
      "outputs": [
        {
          "output_type": "execute_result",
          "data": {
            "text/plain": [
              "\n",
              "[[[[1. 1. 1.]\n",
              "   [1. 1. 1.]\n",
              "   [1. 1. 1.]]\n",
              "\n",
              "  [[1. 1. 1.]\n",
              "   [1. 1. 1.]\n",
              "   [1. 1. 1.]]\n",
              "\n",
              "  [[1. 1. 1.]\n",
              "   [1. 1. 1.]\n",
              "   [1. 1. 1.]]]]\n",
              "<NDArray 1x3x3x3 @gpu(0)>"
            ]
          },
          "metadata": {
            "tags": []
          },
          "execution_count": 10
        }
      ]
    },
    {
      "cell_type": "code",
      "metadata": {
        "id": "7Jk5zjuFv3Pa",
        "colab_type": "code",
        "colab": {}
      },
      "source": [
        ""
      ],
      "execution_count": 0,
      "outputs": []
    }
  ]
}