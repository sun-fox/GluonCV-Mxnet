{
  "nbformat": 4,
  "nbformat_minor": 0,
  "metadata": {
    "colab": {
      "name": "Gluon_Dataloaders.ipynb",
      "provenance": [],
      "authorship_tag": "ABX9TyNnilB7eydpZ9lM0RJMLm11",
      "include_colab_link": true
    },
    "kernelspec": {
      "name": "python3",
      "display_name": "Python 3"
    }
  },
  "cells": [
    {
      "cell_type": "markdown",
      "metadata": {
        "id": "view-in-github",
        "colab_type": "text"
      },
      "source": [
        "<a href=\"https://colab.research.google.com/github/sun-fox/GluonCV-Mxnet/blob/master/Gluon_Dataloaders.ipynb\" target=\"_parent\"><img src=\"https://colab.research.google.com/assets/colab-badge.svg\" alt=\"Open In Colab\"/></a>"
      ]
    },
    {
      "cell_type": "code",
      "metadata": {
        "id": "NZBRHg6EsTOQ",
        "colab_type": "code",
        "colab": {
          "base_uri": "https://localhost:8080/",
          "height": 692
        },
        "outputId": "013f88dc-ad05-444d-fa97-d2e2e99d9737"
      },
      "source": [
        "!pip install mxnet-cu101mkl\n",
        "!pip install gluoncv"
      ],
      "execution_count": 1,
      "outputs": [
        {
          "output_type": "stream",
          "text": [
            "Collecting mxnet-cu101mkl\n",
            "\u001b[?25l  Downloading https://files.pythonhosted.org/packages/3d/4b/e51dc49ca5fe6564028e7c91b10a3f79c00d710dd691b408c77597df5883/mxnet_cu101mkl-1.6.0-py2.py3-none-manylinux1_x86_64.whl (711.0MB)\n",
            "\u001b[K     |████████████████████████████████| 711.0MB 24kB/s \n",
            "\u001b[?25hCollecting graphviz<0.9.0,>=0.8.1\n",
            "  Downloading https://files.pythonhosted.org/packages/53/39/4ab213673844e0c004bed8a0781a0721a3f6bb23eb8854ee75c236428892/graphviz-0.8.4-py2.py3-none-any.whl\n",
            "Requirement already satisfied: requests<3,>=2.20.0 in /usr/local/lib/python3.6/dist-packages (from mxnet-cu101mkl) (2.23.0)\n",
            "Requirement already satisfied: numpy<2.0.0,>1.16.0 in /usr/local/lib/python3.6/dist-packages (from mxnet-cu101mkl) (1.18.4)\n",
            "Requirement already satisfied: certifi>=2017.4.17 in /usr/local/lib/python3.6/dist-packages (from requests<3,>=2.20.0->mxnet-cu101mkl) (2020.4.5.1)\n",
            "Requirement already satisfied: idna<3,>=2.5 in /usr/local/lib/python3.6/dist-packages (from requests<3,>=2.20.0->mxnet-cu101mkl) (2.9)\n",
            "Requirement already satisfied: urllib3!=1.25.0,!=1.25.1,<1.26,>=1.21.1 in /usr/local/lib/python3.6/dist-packages (from requests<3,>=2.20.0->mxnet-cu101mkl) (1.24.3)\n",
            "Requirement already satisfied: chardet<4,>=3.0.2 in /usr/local/lib/python3.6/dist-packages (from requests<3,>=2.20.0->mxnet-cu101mkl) (3.0.4)\n",
            "Installing collected packages: graphviz, mxnet-cu101mkl\n",
            "  Found existing installation: graphviz 0.10.1\n",
            "    Uninstalling graphviz-0.10.1:\n",
            "      Successfully uninstalled graphviz-0.10.1\n",
            "Successfully installed graphviz-0.8.4 mxnet-cu101mkl-1.6.0\n",
            "Collecting gluoncv\n",
            "\u001b[?25l  Downloading https://files.pythonhosted.org/packages/fa/81/37a00609cb53da3671adb106b9bc03fb1c029ad5a8db4bc668283e65703d/gluoncv-0.7.0-py2.py3-none-any.whl (752kB)\n",
            "\u001b[K     |████████████████████████████████| 757kB 3.5MB/s \n",
            "\u001b[?25hRequirement already satisfied: matplotlib in /usr/local/lib/python3.6/dist-packages (from gluoncv) (3.2.1)\n",
            "Collecting portalocker\n",
            "  Downloading https://files.pythonhosted.org/packages/53/84/7b3146ec6378d28abc73ab484f09f47dfa008ad6f03f33d90a369f880e25/portalocker-1.7.0-py2.py3-none-any.whl\n",
            "Requirement already satisfied: requests in /usr/local/lib/python3.6/dist-packages (from gluoncv) (2.23.0)\n",
            "Requirement already satisfied: numpy in /usr/local/lib/python3.6/dist-packages (from gluoncv) (1.18.4)\n",
            "Requirement already satisfied: Pillow in /usr/local/lib/python3.6/dist-packages (from gluoncv) (7.0.0)\n",
            "Requirement already satisfied: scipy in /usr/local/lib/python3.6/dist-packages (from gluoncv) (1.4.1)\n",
            "Requirement already satisfied: tqdm in /usr/local/lib/python3.6/dist-packages (from gluoncv) (4.41.1)\n",
            "Requirement already satisfied: pyparsing!=2.0.4,!=2.1.2,!=2.1.6,>=2.0.1 in /usr/local/lib/python3.6/dist-packages (from matplotlib->gluoncv) (2.4.7)\n",
            "Requirement already satisfied: kiwisolver>=1.0.1 in /usr/local/lib/python3.6/dist-packages (from matplotlib->gluoncv) (1.2.0)\n",
            "Requirement already satisfied: cycler>=0.10 in /usr/local/lib/python3.6/dist-packages (from matplotlib->gluoncv) (0.10.0)\n",
            "Requirement already satisfied: python-dateutil>=2.1 in /usr/local/lib/python3.6/dist-packages (from matplotlib->gluoncv) (2.8.1)\n",
            "Requirement already satisfied: idna<3,>=2.5 in /usr/local/lib/python3.6/dist-packages (from requests->gluoncv) (2.9)\n",
            "Requirement already satisfied: chardet<4,>=3.0.2 in /usr/local/lib/python3.6/dist-packages (from requests->gluoncv) (3.0.4)\n",
            "Requirement already satisfied: certifi>=2017.4.17 in /usr/local/lib/python3.6/dist-packages (from requests->gluoncv) (2020.4.5.1)\n",
            "Requirement already satisfied: urllib3!=1.25.0,!=1.25.1,<1.26,>=1.21.1 in /usr/local/lib/python3.6/dist-packages (from requests->gluoncv) (1.24.3)\n",
            "Requirement already satisfied: six in /usr/local/lib/python3.6/dist-packages (from cycler>=0.10->matplotlib->gluoncv) (1.12.0)\n",
            "Installing collected packages: portalocker, gluoncv\n",
            "Successfully installed gluoncv-0.7.0 portalocker-1.7.0\n"
          ],
          "name": "stdout"
        }
      ]
    },
    {
      "cell_type": "code",
      "metadata": {
        "id": "XnWyhVFPsUhl",
        "colab_type": "code",
        "colab": {}
      },
      "source": [
        "import mxnet as mx\n",
        "from mxnet import gluon,nd\n",
        "from matplotlib.pyplot import imshow\n",
        "%matplotlib inline"
      ],
      "execution_count": 0,
      "outputs": []
    },
    {
      "cell_type": "code",
      "metadata": {
        "id": "klmSqfe1sYCk",
        "colab_type": "code",
        "colab": {}
      },
      "source": [
        "mx.random.seed(42)\n",
        "X=mx.random.uniform(shape=(10,3))\n",
        "y=mx.random.uniform(shape=(10,1))\n",
        "dataset = gluon.data.dataset.ArrayDataset(X,y)"
      ],
      "execution_count": 0,
      "outputs": []
    },
    {
      "cell_type": "markdown",
      "metadata": {
        "id": "Gtknyprls5N3",
        "colab_type": "text"
      },
      "source": [
        "# **DataLoader**\n",
        "\n",
        "The gluon dataloader wraps around the gluon datasets to create minibatches of samples from the dataset. It provides a convenient iterator interface for looping through data. Internally the dataloader uses a batch sampler that returns a batch or random indices to be retrieved from the dataset. A required parameter of dataloader is the size of the minibatches you want to create, called batch size. We see that iterating over the dataset produces minibatches of five and the loop ends after two iterations.Since we have just 10 data points in our dataset and five times two is 10. Sometimes the dataset length is indivisible by the minibatch size, living a final batch with a smaller number of samples. Dataloaders default behavior is to return this smaller minibatch but this can be changed by setting the last batch parameter to discard, which ignores the last batch or roll-over which starts the next epoch with the remaining samples. One great benefit of using dataloader is the ability to easily load data in parallel using multiprocessing. You can set the non-workers parameter to the number of CPUs available on your machine for maximum performance or limited to a lower number to keep resources free. Here, we import the multiprocessing module from the Python Standard Library to get the available number of CPUs on the machine. We can then set non-workers argument in the dataloader constructor to this value, to ensure that multiple workers are fetched in different batches of the data for maximum parallelism."
      ]
    },
    {
      "cell_type": "code",
      "metadata": {
        "id": "8GfRe1Yysm8b",
        "colab_type": "code",
        "colab": {
          "base_uri": "https://localhost:8080/",
          "height": 87
        },
        "outputId": "65c67ace-2816-4a56-961a-4f89d92b1154"
      },
      "source": [
        "data_loader = gluon.data.DataLoader(dataset, batch_size=3, last_batch='keep')\n",
        "\n",
        "for X_batch, y_batch in data_loader:\n",
        "  print(\"X_batch has shape {}, and y_batch has shape {}\".format(X_batch.shape,y_batch.shape))"
      ],
      "execution_count": 6,
      "outputs": [
        {
          "output_type": "stream",
          "text": [
            "X_batch has shape (3, 3), and y_batch has shape (3, 1)\n",
            "X_batch has shape (3, 3), and y_batch has shape (3, 1)\n",
            "X_batch has shape (3, 3), and y_batch has shape (3, 1)\n",
            "X_batch has shape (1, 3), and y_batch has shape (1, 1)\n"
          ],
          "name": "stdout"
        }
      ]
    },
    {
      "cell_type": "markdown",
      "metadata": {
        "id": "iRKLQTTzunzT",
        "colab_type": "text"
      },
      "source": [
        "# **Parallel Data Loading**\n",
        "\n",
        "DataLoader allows loading data in parallel for multiprocessing and max performance.\n"
      ]
    },
    {
      "cell_type": "code",
      "metadata": {
        "id": "-6oiJMYcuUmc",
        "colab_type": "code",
        "colab": {
          "base_uri": "https://localhost:8080/",
          "height": 87
        },
        "outputId": "be9032b6-aa23-44ef-fb3f-58dc7264f70f"
      },
      "source": [
        "from multiprocessing import cpu_count\n",
        "CPU_COUNT = cpu_count()\n",
        "\n",
        "data_loader = gluon.data.DataLoader(dataset, batch_size=3, num_workers=CPU_COUNT)\n",
        "\n",
        "for X_batch, y_batch in data_loader:\n",
        "  print(\"X_batch has shape {}, and y_batch has shape {}\".format(X_batch.shape,y_batch.shape))"
      ],
      "execution_count": 7,
      "outputs": [
        {
          "output_type": "stream",
          "text": [
            "X_batch has shape (3, 3), and y_batch has shape (3, 1)\n",
            "X_batch has shape (3, 3), and y_batch has shape (3, 1)\n",
            "X_batch has shape (3, 3), and y_batch has shape (3, 1)\n",
            "X_batch has shape (1, 3), and y_batch has shape (1, 1)\n"
          ],
          "name": "stdout"
        }
      ]
    },
    {
      "cell_type": "code",
      "metadata": {
        "id": "nngZmaKKvQId",
        "colab_type": "code",
        "colab": {
          "base_uri": "https://localhost:8080/",
          "height": 34
        },
        "outputId": "8d0d8782-f203-487c-acdd-f10db8dccc40"
      },
      "source": [
        "CPU_COUNT"
      ],
      "execution_count": 8,
      "outputs": [
        {
          "output_type": "execute_result",
          "data": {
            "text/plain": [
              "2"
            ]
          },
          "metadata": {
            "tags": []
          },
          "execution_count": 8
        }
      ]
    },
    {
      "cell_type": "markdown",
      "metadata": {
        "id": "QuhFjJQEv0dq",
        "colab_type": "text"
      },
      "source": [
        "# **Lazy Transformations with Augementation**\n",
        "\n",
        "The transformations are applied while fetching the data batch. Here, we import the provider gluon transform submodule and compose two different data transformations, a random horizontal flip and a random vertical flip. The dataloader constructor also accepts a shuffle argument to shuffle our training data and break any spurious relationships in the order we encounter data samples during training. We can visualize the result of applying the composed data transformations and shuffling on the dataset. Here, we see that a digit has been flipped due to the transformation. Now you've seen how to create datasets, transform them and get samples from them into neural networks all using the gluon data API."
      ]
    },
    {
      "cell_type": "code",
      "metadata": {
        "id": "9eO4WI7jvS55",
        "colab_type": "code",
        "colab": {}
      },
      "source": [
        "from mxnet.gluon.data.vision import transforms\n",
        "\n",
        "train_dataset = gluon.data.vision.datasets.MNIST(train=True)\n",
        "transform_fn = transforms.Compose([transforms.RandomFlipTopBottom(),\n",
        "                                   transforms.RandomFlipLeftRight()])"
      ],
      "execution_count": 0,
      "outputs": []
    },
    {
      "cell_type": "code",
      "metadata": {
        "id": "MGrfe4GVwTzj",
        "colab_type": "code",
        "colab": {}
      },
      "source": [
        "train_dataloader = gluon.data.DataLoader(train_dataset.transform_first(transform_fn),batch_size=5,shuffle=True)"
      ],
      "execution_count": 0,
      "outputs": []
    },
    {
      "cell_type": "code",
      "metadata": {
        "id": "fKsyhtnnwlE7",
        "colab_type": "code",
        "colab": {
          "base_uri": "https://localhost:8080/",
          "height": 264
        },
        "outputId": "f2d400f2-39c0-4596-99ea-885c28e023e9"
      },
      "source": [
        "for X_batch, y_batch in train_dataloader:\n",
        "  imshow(X_batch[3,:,:,0].asnumpy(),cmap='gray')\n",
        "  break"
      ],
      "execution_count": 27,
      "outputs": [
        {
          "output_type": "display_data",
          "data": {
            "image/png": "[encoded data removed]",
            "text/plain": [
              "<Figure size 432x288 with 1 Axes>"
            ]
          },
          "metadata": {
            "tags": [],
            "needs_background": "light"
          }
        }
      ]
    },
    {
      "cell_type": "code",
      "metadata": {
        "id": "AHjIdL4aw5dM",
        "colab_type": "code",
        "colab": {}
      },
      "source": [
        ""
      ],
      "execution_count": 0,
      "outputs": []
    }
  ]
}