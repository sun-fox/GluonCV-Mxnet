{
  "nbformat": 4,
  "nbformat_minor": 0,
  "metadata": {
    "colab": {
      "name": "Gluon_Transfomations.ipynb",
      "provenance": [],
      "authorship_tag": "ABX9TyNmr8+CwHp8XTUQt9PTES6x",
      "include_colab_link": true
    },
    "kernelspec": {
      "name": "python3",
      "display_name": "Python 3"
    }
  },
  "cells": [
    {
      "cell_type": "markdown",
      "metadata": {
        "id": "view-in-github",
        "colab_type": "text"
      },
      "source": [
        "<a href=\"https://colab.research.google.com/github/sun-fox/GluonCV-Mxnet/blob/master/Gluon_Transfomations.ipynb\" target=\"_parent\"><img src=\"https://colab.research.google.com/assets/colab-badge.svg\" alt=\"Open In Colab\"/></a>"
      ]
    },
    {
      "cell_type": "code",
      "metadata": {
        "id": "0_1e4LxgmyS2",
        "colab_type": "code",
        "colab": {
          "base_uri": "https://localhost:8080/",
          "height": 692
        },
        "outputId": "820afe3f-ac93-4768-e94a-bbfd5fcbeb8a"
      },
      "source": [
        "!pip install mxnet-cu101mkl\n",
        "!pip install gluoncv"
      ],
      "execution_count": 1,
      "outputs": [
        {
          "output_type": "stream",
          "text": [
            "Collecting mxnet-cu101mkl\n",
            "\u001b[?25l  Downloading https://files.pythonhosted.org/packages/3d/4b/e51dc49ca5fe6564028e7c91b10a3f79c00d710dd691b408c77597df5883/mxnet_cu101mkl-1.6.0-py2.py3-none-manylinux1_x86_64.whl (711.0MB)\n",
            "\u001b[K     |████████████████████████████████| 711.0MB 24kB/s \n",
            "\u001b[?25hRequirement already satisfied: numpy<2.0.0,>1.16.0 in /usr/local/lib/python3.6/dist-packages (from mxnet-cu101mkl) (1.18.4)\n",
            "Collecting graphviz<0.9.0,>=0.8.1\n",
            "  Downloading https://files.pythonhosted.org/packages/53/39/4ab213673844e0c004bed8a0781a0721a3f6bb23eb8854ee75c236428892/graphviz-0.8.4-py2.py3-none-any.whl\n",
            "Requirement already satisfied: requests<3,>=2.20.0 in /usr/local/lib/python3.6/dist-packages (from mxnet-cu101mkl) (2.23.0)\n",
            "Requirement already satisfied: urllib3!=1.25.0,!=1.25.1,<1.26,>=1.21.1 in /usr/local/lib/python3.6/dist-packages (from requests<3,>=2.20.0->mxnet-cu101mkl) (1.24.3)\n",
            "Requirement already satisfied: chardet<4,>=3.0.2 in /usr/local/lib/python3.6/dist-packages (from requests<3,>=2.20.0->mxnet-cu101mkl) (3.0.4)\n",
            "Requirement already satisfied: certifi>=2017.4.17 in /usr/local/lib/python3.6/dist-packages (from requests<3,>=2.20.0->mxnet-cu101mkl) (2020.4.5.1)\n",
            "Requirement already satisfied: idna<3,>=2.5 in /usr/local/lib/python3.6/dist-packages (from requests<3,>=2.20.0->mxnet-cu101mkl) (2.9)\n",
            "Installing collected packages: graphviz, mxnet-cu101mkl\n",
            "  Found existing installation: graphviz 0.10.1\n",
            "    Uninstalling graphviz-0.10.1:\n",
            "      Successfully uninstalled graphviz-0.10.1\n",
            "Successfully installed graphviz-0.8.4 mxnet-cu101mkl-1.6.0\n",
            "Collecting gluoncv\n",
            "\u001b[?25l  Downloading https://files.pythonhosted.org/packages/fa/81/37a00609cb53da3671adb106b9bc03fb1c029ad5a8db4bc668283e65703d/gluoncv-0.7.0-py2.py3-none-any.whl (752kB)\n",
            "\u001b[K     |████████████████████████████████| 757kB 2.8MB/s \n",
            "\u001b[?25hRequirement already satisfied: Pillow in /usr/local/lib/python3.6/dist-packages (from gluoncv) (7.0.0)\n",
            "Requirement already satisfied: scipy in /usr/local/lib/python3.6/dist-packages (from gluoncv) (1.4.1)\n",
            "Requirement already satisfied: numpy in /usr/local/lib/python3.6/dist-packages (from gluoncv) (1.18.4)\n",
            "Requirement already satisfied: matplotlib in /usr/local/lib/python3.6/dist-packages (from gluoncv) (3.2.1)\n",
            "Collecting portalocker\n",
            "  Downloading https://files.pythonhosted.org/packages/53/84/7b3146ec6378d28abc73ab484f09f47dfa008ad6f03f33d90a369f880e25/portalocker-1.7.0-py2.py3-none-any.whl\n",
            "Requirement already satisfied: requests in /usr/local/lib/python3.6/dist-packages (from gluoncv) (2.23.0)\n",
            "Requirement already satisfied: tqdm in /usr/local/lib/python3.6/dist-packages (from gluoncv) (4.41.1)\n",
            "Requirement already satisfied: python-dateutil>=2.1 in /usr/local/lib/python3.6/dist-packages (from matplotlib->gluoncv) (2.8.1)\n",
            "Requirement already satisfied: kiwisolver>=1.0.1 in /usr/local/lib/python3.6/dist-packages (from matplotlib->gluoncv) (1.2.0)\n",
            "Requirement already satisfied: pyparsing!=2.0.4,!=2.1.2,!=2.1.6,>=2.0.1 in /usr/local/lib/python3.6/dist-packages (from matplotlib->gluoncv) (2.4.7)\n",
            "Requirement already satisfied: cycler>=0.10 in /usr/local/lib/python3.6/dist-packages (from matplotlib->gluoncv) (0.10.0)\n",
            "Requirement already satisfied: urllib3!=1.25.0,!=1.25.1,<1.26,>=1.21.1 in /usr/local/lib/python3.6/dist-packages (from requests->gluoncv) (1.24.3)\n",
            "Requirement already satisfied: certifi>=2017.4.17 in /usr/local/lib/python3.6/dist-packages (from requests->gluoncv) (2020.4.5.1)\n",
            "Requirement already satisfied: idna<3,>=2.5 in /usr/local/lib/python3.6/dist-packages (from requests->gluoncv) (2.9)\n",
            "Requirement already satisfied: chardet<4,>=3.0.2 in /usr/local/lib/python3.6/dist-packages (from requests->gluoncv) (3.0.4)\n",
            "Requirement already satisfied: six>=1.5 in /usr/local/lib/python3.6/dist-packages (from python-dateutil>=2.1->matplotlib->gluoncv) (1.12.0)\n",
            "Installing collected packages: portalocker, gluoncv\n",
            "Successfully installed gluoncv-0.7.0 portalocker-1.7.0\n"
          ],
          "name": "stdout"
        }
      ]
    },
    {
      "cell_type": "code",
      "metadata": {
        "id": "2Erj-ACmmzei",
        "colab_type": "code",
        "colab": {}
      },
      "source": [
        "import mxnet as mx\n",
        "from mxnet import gluon,nd"
      ],
      "execution_count": 0,
      "outputs": []
    },
    {
      "cell_type": "code",
      "metadata": {
        "id": "fSUGRrlEnCD9",
        "colab_type": "code",
        "colab": {}
      },
      "source": [
        "def transform_fn(data, label):\n",
        "  data = data.astype('float32')/255\n",
        "  return data, label\n",
        "\n",
        "train_dataset = gluon.data.vision.datasets.MNIST(train=True).transform(transform_fn)\n",
        "test_dataset = gluon.data.vision.datasets.MNIST(train=False).transform(transform_fn)"
      ],
      "execution_count": 0,
      "outputs": []
    },
    {
      "cell_type": "code",
      "metadata": {
        "id": "0Hp-woitnZ1L",
        "colab_type": "code",
        "colab": {
          "base_uri": "https://localhost:8080/",
          "height": 70
        },
        "outputId": "a4132c0d-a2a7-4631-c733-3c6b92b7e776"
      },
      "source": [
        "sample_data = train_dataset[19][0]\n",
        "nd.max(sample_data)"
      ],
      "execution_count": 6,
      "outputs": [
        {
          "output_type": "execute_result",
          "data": {
            "text/plain": [
              "\n",
              "[1.]\n",
              "<NDArray 1 @cpu(0)>"
            ]
          },
          "metadata": {
            "tags": []
          },
          "execution_count": 6
        }
      ]
    },
    {
      "cell_type": "code",
      "metadata": {
        "id": "jvmO84tennzV",
        "colab_type": "code",
        "colab": {}
      },
      "source": [
        "from mxnet.gluon.data.vision import transforms"
      ],
      "execution_count": 0,
      "outputs": []
    },
    {
      "cell_type": "markdown",
      "metadata": {
        "id": "ZvAyobELoxKf",
        "colab_type": "text"
      },
      "source": [
        "**ToTensor**\n",
        "\n",
        "Converts an image in NDArray of shape(H x W x C) in the range [0,255] to float32 tensor NDArray of shape(C x H x W) in raneg[0,1]."
      ]
    },
    {
      "cell_type": "code",
      "metadata": {
        "id": "z1f5pH2FoZja",
        "colab_type": "code",
        "colab": {}
      },
      "source": [
        "train_dataset = gluon.data.vision.datasets.MNIST(train=True)\n",
        "sample_data = train_dataset[19][0].shape"
      ],
      "execution_count": 0,
      "outputs": []
    },
    {
      "cell_type": "code",
      "metadata": {
        "id": "0OFoLb5ipUW-",
        "colab_type": "code",
        "colab": {}
      },
      "source": [
        "to_tensor = transforms.ToTensor()\n",
        "train_dataset = train_dataset.transform_first(to_tensor)\n",
        "sample_data = train_dataset[19][0].shape"
      ],
      "execution_count": 0,
      "outputs": []
    },
    {
      "cell_type": "markdown",
      "metadata": {
        "id": "cQo3Jbx0pnj-",
        "colab_type": "text"
      },
      "source": [
        "**Normalize**\n",
        "\n",
        "normalize a tensor of shape(CHW) with mean and stanadard dev."
      ]
    },
    {
      "cell_type": "code",
      "metadata": {
        "id": "XvGdBd2pplDJ",
        "colab_type": "code",
        "colab": {}
      },
      "source": [
        "mean,std = (0.1307,), (0.3081,)\n",
        "normalize = transforms.Normalize(mean, std)\n",
        "train_dataset = train_dataset.transform_first(normalize)"
      ],
      "execution_count": 0,
      "outputs": []
    },
    {
      "cell_type": "markdown",
      "metadata": {
        "id": "4Gy43pKfqiyr",
        "colab_type": "text"
      },
      "source": [
        "**Compose**\n",
        "\n",
        "Sequentially compose multiple transforms"
      ]
    },
    {
      "cell_type": "code",
      "metadata": {
        "id": "DEtHXir-qFUG",
        "colab_type": "code",
        "colab": {}
      },
      "source": [
        "transform_fn = transforms.Compose([transforms.ToTensor(),\n",
        "                                   transforms.Normalize(mean,std)])"
      ],
      "execution_count": 0,
      "outputs": []
    },
    {
      "cell_type": "code",
      "metadata": {
        "id": "RtUw-J-rq4PQ",
        "colab_type": "code",
        "colab": {}
      },
      "source": [
        "train_dataset = gluon.data.vision.datasets.MNIST(train=True).transform(transform_fn)\n",
        "test_dataset = gluon.data.vision.datasets.MNIST(train=False).transform(transform_fn)"
      ],
      "execution_count": 0,
      "outputs": []
    },
    {
      "cell_type": "markdown",
      "metadata": {
        "id": "P3F1sizprmIE",
        "colab_type": "text"
      },
      "source": [
        "# **DATA AUGMENTATION via Transforms can be implemented**\n",
        "\n",
        "Some of these include Resize, CenterCrop, RandomResizedCrop, RandomFlipLeftRight, RandomBrightness, and many more. You can also compose these transformations using transforms.compose once again."
      ]
    },
    {
      "cell_type": "code",
      "metadata": {
        "id": "Oqb1ycGarH53",
        "colab_type": "code",
        "colab": {}
      },
      "source": [
        ""
      ],
      "execution_count": 0,
      "outputs": []
    },
    {
      "cell_type": "code",
      "metadata": {
        "id": "TjpYDSP0rN_C",
        "colab_type": "code",
        "colab": {}
      },
      "source": [
        ""
      ],
      "execution_count": 0,
      "outputs": []
    }
  ]
}